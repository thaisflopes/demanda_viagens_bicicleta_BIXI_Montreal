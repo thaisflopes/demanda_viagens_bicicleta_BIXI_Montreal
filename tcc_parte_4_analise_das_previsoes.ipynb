{
  "cells": [
    {
      "cell_type": "markdown",
      "metadata": {
        "id": "view-in-github",
        "colab_type": "text"
      },
      "source": [
        "<a href=\"https://colab.research.google.com/github/thaisflopes/demanda_viagens_bicicleta_BIXI_Montreal/blob/main/tcc_parte_4_analise_das_previsoes.ipynb\" target=\"_parent\"><img src=\"https://colab.research.google.com/assets/colab-badge.svg\" alt=\"Open In Colab\"/></a>"
      ]
    },
    {
      "cell_type": "markdown",
      "metadata": {
        "id": "io071DLrUBab"
      },
      "source": [
        "### Código do trabalho de conclusão de curso\n",
        "### Parte 4 - Análise das previsões\n",
        "\n",
        "Código desenvolvido para o trabalho de conclusão *Comparando métodos de aprendizado de máquina para previsão da demanda de viagens de bicicletas da BIXI Montreal e análise do efeito da pandemia de COVID-19 na demanda de 2020*, elaborado por Thaís Lopes (https://github.com/thaisflopes) em novembro de 2021.\n",
        "\n",
        "Link para acessar o trabalho completo: https://repositorio.uniceub.br/jspui/handle/prefix/15956\n",
        "  "
      ]
    },
    {
      "cell_type": "code",
      "execution_count": null,
      "metadata": {
        "id": "uhUD_r2xUBah",
        "outputId": "f71a4388-304a-49cb-87fe-bcf3c948b8af"
      },
      "outputs": [
        {
          "name": "stdout",
          "output_type": "stream",
          "text": [
            "Requirement already satisfied: plotly in c:\\users\\dell\\anaconda3\\lib\\site-packages (5.3.1)\n",
            "Requirement already satisfied: six in c:\\users\\dell\\anaconda3\\lib\\site-packages (from plotly) (1.15.0)\n",
            "Requirement already satisfied: tenacity>=6.2.0 in c:\\users\\dell\\anaconda3\\lib\\site-packages (from plotly) (8.0.1)\n"
          ]
        },
        {
          "data": {
            "text/html": [
              "        <script type=\"text/javascript\">\n",
              "        window.PlotlyConfig = {MathJaxConfig: 'local'};\n",
              "        if (window.MathJax) {MathJax.Hub.Config({SVG: {font: \"STIX-Web\"}});}\n",
              "        if (typeof require !== 'undefined') {\n",
              "        require.undef(\"plotly\");\n",
              "        requirejs.config({\n",
              "            paths: {\n",
              "                'plotly': ['https://cdn.plot.ly/plotly-2.4.2.min']\n",
              "            }\n",
              "        });\n",
              "        require(['plotly'], function(Plotly) {\n",
              "            window._Plotly = Plotly;\n",
              "        });\n",
              "        }\n",
              "        </script>\n",
              "        "
            ]
          },
          "metadata": {},
          "output_type": "display_data"
        }
      ],
      "source": [
        "#Importando bibliotecas\n",
        "import numpy as np\n",
        "import pandas as pd\n",
        "import matplotlib.pyplot as plt\n",
        "from matplotlib import pyplot\n",
        "!pip install plotly\n",
        "import plotly.offline as py\n",
        "import plotly.graph_objs as go\n",
        "py.init_notebook_mode(connected=True)\n",
        "import seaborn as sns"
      ]
    },
    {
      "cell_type": "code",
      "execution_count": null,
      "metadata": {
        "id": "gWFBBXB_UBal",
        "outputId": "35c728d2-874e-41b9-b74a-2d12ce803229"
      },
      "outputs": [
        {
          "data": {
            "text/html": [
              "<div>\n",
              "<style scoped>\n",
              "    .dataframe tbody tr th:only-of-type {\n",
              "        vertical-align: middle;\n",
              "    }\n",
              "\n",
              "    .dataframe tbody tr th {\n",
              "        vertical-align: top;\n",
              "    }\n",
              "\n",
              "    .dataframe thead th {\n",
              "        text-align: right;\n",
              "    }\n",
              "</style>\n",
              "<table border=\"1\" class=\"dataframe\">\n",
              "  <thead>\n",
              "    <tr style=\"text-align: right;\">\n",
              "      <th></th>\n",
              "      <th>Unnamed: 0</th>\n",
              "      <th>qtd_viagens</th>\n",
              "      <th>n_semana</th>\n",
              "      <th>previsao_A</th>\n",
              "      <th>previsao_B</th>\n",
              "      <th>previsao_C</th>\n",
              "      <th>dif_A</th>\n",
              "      <th>dif_B</th>\n",
              "      <th>dif_C</th>\n",
              "    </tr>\n",
              "  </thead>\n",
              "  <tbody>\n",
              "    <tr>\n",
              "      <th>0</th>\n",
              "      <td>0</td>\n",
              "      <td>2</td>\n",
              "      <td>0</td>\n",
              "      <td>20315.92</td>\n",
              "      <td>1.664203e+06</td>\n",
              "      <td>29941.92</td>\n",
              "      <td>-20313.92</td>\n",
              "      <td>-1.664201e+06</td>\n",
              "      <td>-29939.92</td>\n",
              "    </tr>\n",
              "    <tr>\n",
              "      <th>1</th>\n",
              "      <td>1</td>\n",
              "      <td>3</td>\n",
              "      <td>0</td>\n",
              "      <td>20315.92</td>\n",
              "      <td>1.664203e+06</td>\n",
              "      <td>29941.92</td>\n",
              "      <td>-20312.92</td>\n",
              "      <td>-1.664200e+06</td>\n",
              "      <td>-29938.92</td>\n",
              "    </tr>\n",
              "    <tr>\n",
              "      <th>2</th>\n",
              "      <td>2</td>\n",
              "      <td>3</td>\n",
              "      <td>0</td>\n",
              "      <td>20315.92</td>\n",
              "      <td>1.664203e+06</td>\n",
              "      <td>29941.92</td>\n",
              "      <td>-20312.92</td>\n",
              "      <td>-1.664200e+06</td>\n",
              "      <td>-29938.92</td>\n",
              "    </tr>\n",
              "    <tr>\n",
              "      <th>3</th>\n",
              "      <td>3</td>\n",
              "      <td>3</td>\n",
              "      <td>0</td>\n",
              "      <td>20315.92</td>\n",
              "      <td>1.664203e+06</td>\n",
              "      <td>29941.92</td>\n",
              "      <td>-20312.92</td>\n",
              "      <td>-1.664200e+06</td>\n",
              "      <td>-29938.92</td>\n",
              "    </tr>\n",
              "    <tr>\n",
              "      <th>4</th>\n",
              "      <td>4</td>\n",
              "      <td>1</td>\n",
              "      <td>0</td>\n",
              "      <td>20315.92</td>\n",
              "      <td>1.664203e+06</td>\n",
              "      <td>29941.92</td>\n",
              "      <td>-20314.92</td>\n",
              "      <td>-1.664202e+06</td>\n",
              "      <td>-29940.92</td>\n",
              "    </tr>\n",
              "  </tbody>\n",
              "</table>\n",
              "</div>"
            ],
            "text/plain": [
              "   Unnamed: 0  qtd_viagens  n_semana  previsao_A    previsao_B  previsao_C  \\\n",
              "0           0            2         0    20315.92  1.664203e+06    29941.92   \n",
              "1           1            3         0    20315.92  1.664203e+06    29941.92   \n",
              "2           2            3         0    20315.92  1.664203e+06    29941.92   \n",
              "3           3            3         0    20315.92  1.664203e+06    29941.92   \n",
              "4           4            1         0    20315.92  1.664203e+06    29941.92   \n",
              "\n",
              "      dif_A         dif_B     dif_C  \n",
              "0 -20313.92 -1.664201e+06 -29939.92  \n",
              "1 -20312.92 -1.664200e+06 -29938.92  \n",
              "2 -20312.92 -1.664200e+06 -29938.92  \n",
              "3 -20312.92 -1.664200e+06 -29938.92  \n",
              "4 -20314.92 -1.664202e+06 -29940.92  "
            ]
          },
          "execution_count": 2,
          "metadata": {},
          "output_type": "execute_result"
        }
      ],
      "source": [
        "comparativo_2020 = pd.read_csv('comparativo_2020.csv')\n",
        "comparativo_2020.head()"
      ]
    },
    {
      "cell_type": "code",
      "execution_count": null,
      "metadata": {
        "id": "z2AKN9W-UBam",
        "outputId": "5f7df2c9-6283-422a-abb5-2d2c07f3cce4"
      },
      "outputs": [
        {
          "data": {
            "text/html": [
              "<div>\n",
              "<style scoped>\n",
              "    .dataframe tbody tr th:only-of-type {\n",
              "        vertical-align: middle;\n",
              "    }\n",
              "\n",
              "    .dataframe tbody tr th {\n",
              "        vertical-align: top;\n",
              "    }\n",
              "\n",
              "    .dataframe thead th {\n",
              "        text-align: right;\n",
              "    }\n",
              "</style>\n",
              "<table border=\"1\" class=\"dataframe\">\n",
              "  <thead>\n",
              "    <tr style=\"text-align: right;\">\n",
              "      <th></th>\n",
              "      <th>n_semana</th>\n",
              "      <th>previsao_A</th>\n",
              "      <th>previsao_B</th>\n",
              "      <th>previsao_C</th>\n",
              "    </tr>\n",
              "  </thead>\n",
              "  <tbody>\n",
              "    <tr>\n",
              "      <th>0</th>\n",
              "      <td>0</td>\n",
              "      <td>20315.92</td>\n",
              "      <td>1.664203e+06</td>\n",
              "      <td>29941.92</td>\n",
              "    </tr>\n",
              "    <tr>\n",
              "      <th>1</th>\n",
              "      <td>0</td>\n",
              "      <td>20315.92</td>\n",
              "      <td>1.664203e+06</td>\n",
              "      <td>29941.92</td>\n",
              "    </tr>\n",
              "    <tr>\n",
              "      <th>2</th>\n",
              "      <td>0</td>\n",
              "      <td>20315.92</td>\n",
              "      <td>1.664203e+06</td>\n",
              "      <td>29941.92</td>\n",
              "    </tr>\n",
              "    <tr>\n",
              "      <th>3</th>\n",
              "      <td>0</td>\n",
              "      <td>20315.92</td>\n",
              "      <td>1.664203e+06</td>\n",
              "      <td>29941.92</td>\n",
              "    </tr>\n",
              "    <tr>\n",
              "      <th>4</th>\n",
              "      <td>0</td>\n",
              "      <td>20315.92</td>\n",
              "      <td>1.664203e+06</td>\n",
              "      <td>29941.92</td>\n",
              "    </tr>\n",
              "  </tbody>\n",
              "</table>\n",
              "</div>"
            ],
            "text/plain": [
              "   n_semana  previsao_A    previsao_B  previsao_C\n",
              "0         0    20315.92  1.664203e+06    29941.92\n",
              "1         0    20315.92  1.664203e+06    29941.92\n",
              "2         0    20315.92  1.664203e+06    29941.92\n",
              "3         0    20315.92  1.664203e+06    29941.92\n",
              "4         0    20315.92  1.664203e+06    29941.92"
            ]
          },
          "execution_count": 3,
          "metadata": {},
          "output_type": "execute_result"
        }
      ],
      "source": [
        "comparativo_2020 = comparativo_2020.drop(labels=['Unnamed: 0', 'qtd_viagens', 'dif_A', 'dif_B', 'dif_C'], axis = 1)\n",
        "comparativo_2020.head()"
      ]
    },
    {
      "cell_type": "code",
      "execution_count": null,
      "metadata": {
        "id": "MQnFFbLYUBan",
        "outputId": "fd059c73-6443-4f74-ddef-441c752cd80d"
      },
      "outputs": [
        {
          "data": {
            "text/html": [
              "<div>\n",
              "<style scoped>\n",
              "    .dataframe tbody tr th:only-of-type {\n",
              "        vertical-align: middle;\n",
              "    }\n",
              "\n",
              "    .dataframe tbody tr th {\n",
              "        vertical-align: top;\n",
              "    }\n",
              "\n",
              "    .dataframe thead th {\n",
              "        text-align: right;\n",
              "    }\n",
              "</style>\n",
              "<table border=\"1\" class=\"dataframe\">\n",
              "  <thead>\n",
              "    <tr style=\"text-align: right;\">\n",
              "      <th></th>\n",
              "      <th>n_semana</th>\n",
              "      <th>previsao_A</th>\n",
              "      <th>previsao_B</th>\n",
              "      <th>previsao_C</th>\n",
              "    </tr>\n",
              "  </thead>\n",
              "  <tbody>\n",
              "    <tr>\n",
              "      <th>0</th>\n",
              "      <td>0</td>\n",
              "      <td>20315.92</td>\n",
              "      <td>1.664203e+06</td>\n",
              "      <td>29941.92</td>\n",
              "    </tr>\n",
              "    <tr>\n",
              "      <th>11428</th>\n",
              "      <td>1</td>\n",
              "      <td>44817.76</td>\n",
              "      <td>1.664203e+06</td>\n",
              "      <td>109498.47</td>\n",
              "    </tr>\n",
              "    <tr>\n",
              "      <th>32407</th>\n",
              "      <td>2</td>\n",
              "      <td>67499.34</td>\n",
              "      <td>1.664203e+06</td>\n",
              "      <td>139831.67</td>\n",
              "    </tr>\n",
              "    <tr>\n",
              "      <th>64002</th>\n",
              "      <td>3</td>\n",
              "      <td>72465.69</td>\n",
              "      <td>1.649678e+06</td>\n",
              "      <td>175619.31</td>\n",
              "    </tr>\n",
              "    <tr>\n",
              "      <th>91345</th>\n",
              "      <td>4</td>\n",
              "      <td>100362.30</td>\n",
              "      <td>1.649678e+06</td>\n",
              "      <td>213007.15</td>\n",
              "    </tr>\n",
              "  </tbody>\n",
              "</table>\n",
              "</div>"
            ],
            "text/plain": [
              "       n_semana  previsao_A    previsao_B  previsao_C\n",
              "0             0    20315.92  1.664203e+06    29941.92\n",
              "11428         1    44817.76  1.664203e+06   109498.47\n",
              "32407         2    67499.34  1.664203e+06   139831.67\n",
              "64002         3    72465.69  1.649678e+06   175619.31\n",
              "91345         4   100362.30  1.649678e+06   213007.15"
            ]
          },
          "execution_count": 4,
          "metadata": {},
          "output_type": "execute_result"
        }
      ],
      "source": [
        "#Retirando linhas duplicadas\n",
        "comparativo_2020 = comparativo_2020.drop_duplicates()\n",
        "comparativo_2020.head()"
      ]
    },
    {
      "cell_type": "code",
      "execution_count": null,
      "metadata": {
        "id": "gVkEXetbUBan",
        "outputId": "c149c289-5868-4b0c-a448-fe066610f486"
      },
      "outputs": [
        {
          "data": {
            "text/html": [
              "<div>\n",
              "<style scoped>\n",
              "    .dataframe tbody tr th:only-of-type {\n",
              "        vertical-align: middle;\n",
              "    }\n",
              "\n",
              "    .dataframe tbody tr th {\n",
              "        vertical-align: top;\n",
              "    }\n",
              "\n",
              "    .dataframe thead th {\n",
              "        text-align: right;\n",
              "    }\n",
              "</style>\n",
              "<table border=\"1\" class=\"dataframe\">\n",
              "  <thead>\n",
              "    <tr style=\"text-align: right;\">\n",
              "      <th></th>\n",
              "      <th>n_semana</th>\n",
              "      <th>qtd_viagens</th>\n",
              "    </tr>\n",
              "  </thead>\n",
              "  <tbody>\n",
              "    <tr>\n",
              "      <th>0</th>\n",
              "      <td>0</td>\n",
              "      <td>15944</td>\n",
              "    </tr>\n",
              "    <tr>\n",
              "      <th>1</th>\n",
              "      <td>1</td>\n",
              "      <td>32475</td>\n",
              "    </tr>\n",
              "    <tr>\n",
              "      <th>2</th>\n",
              "      <td>2</td>\n",
              "      <td>53894</td>\n",
              "    </tr>\n",
              "    <tr>\n",
              "      <th>3</th>\n",
              "      <td>3</td>\n",
              "      <td>45049</td>\n",
              "    </tr>\n",
              "    <tr>\n",
              "      <th>4</th>\n",
              "      <td>4</td>\n",
              "      <td>74550</td>\n",
              "    </tr>\n",
              "  </tbody>\n",
              "</table>\n",
              "</div>"
            ],
            "text/plain": [
              "   n_semana  qtd_viagens\n",
              "0         0        15944\n",
              "1         1        32475\n",
              "2         2        53894\n",
              "3         3        45049\n",
              "4         4        74550"
            ]
          },
          "execution_count": 5,
          "metadata": {},
          "output_type": "execute_result"
        }
      ],
      "source": [
        "#Calculando a quantidade total de viagens por semana - 2020\n",
        "dados_2020 = pd.read_csv('dados_2020.csv')\n",
        "viagens_por_semana_2020 = dados_2020.groupby(['n_semana'])['qtd_viagens'].sum()\n",
        "viagens_por_semana_2020 = pd.DataFrame(viagens_por_semana_2020)\n",
        "viagens_por_semana_2020 = viagens_por_semana_2020.reset_index()\n",
        "viagens_por_semana_2020.head()"
      ]
    },
    {
      "cell_type": "code",
      "execution_count": null,
      "metadata": {
        "id": "6pn0y8UIUBao",
        "outputId": "bb7a2cf1-9322-468e-bf3b-c81ba8caf053"
      },
      "outputs": [
        {
          "data": {
            "text/html": [
              "<div>\n",
              "<style scoped>\n",
              "    .dataframe tbody tr th:only-of-type {\n",
              "        vertical-align: middle;\n",
              "    }\n",
              "\n",
              "    .dataframe tbody tr th {\n",
              "        vertical-align: top;\n",
              "    }\n",
              "\n",
              "    .dataframe thead th {\n",
              "        text-align: right;\n",
              "    }\n",
              "</style>\n",
              "<table border=\"1\" class=\"dataframe\">\n",
              "  <thead>\n",
              "    <tr style=\"text-align: right;\">\n",
              "      <th></th>\n",
              "      <th>n_semana</th>\n",
              "      <th>qtd_viagens</th>\n",
              "      <th>previsao_A</th>\n",
              "      <th>previsao_B</th>\n",
              "      <th>previsao_C</th>\n",
              "    </tr>\n",
              "  </thead>\n",
              "  <tbody>\n",
              "    <tr>\n",
              "      <th>0</th>\n",
              "      <td>0</td>\n",
              "      <td>15944</td>\n",
              "      <td>20315.92</td>\n",
              "      <td>1.664203e+06</td>\n",
              "      <td>29941.92</td>\n",
              "    </tr>\n",
              "    <tr>\n",
              "      <th>1</th>\n",
              "      <td>1</td>\n",
              "      <td>32475</td>\n",
              "      <td>44817.76</td>\n",
              "      <td>1.664203e+06</td>\n",
              "      <td>109498.47</td>\n",
              "    </tr>\n",
              "    <tr>\n",
              "      <th>2</th>\n",
              "      <td>2</td>\n",
              "      <td>53894</td>\n",
              "      <td>67499.34</td>\n",
              "      <td>1.664203e+06</td>\n",
              "      <td>139831.67</td>\n",
              "    </tr>\n",
              "    <tr>\n",
              "      <th>3</th>\n",
              "      <td>3</td>\n",
              "      <td>45049</td>\n",
              "      <td>72465.69</td>\n",
              "      <td>1.649678e+06</td>\n",
              "      <td>175619.31</td>\n",
              "    </tr>\n",
              "    <tr>\n",
              "      <th>4</th>\n",
              "      <td>4</td>\n",
              "      <td>74550</td>\n",
              "      <td>100362.30</td>\n",
              "      <td>1.649678e+06</td>\n",
              "      <td>213007.15</td>\n",
              "    </tr>\n",
              "  </tbody>\n",
              "</table>\n",
              "</div>"
            ],
            "text/plain": [
              "   n_semana  qtd_viagens  previsao_A    previsao_B  previsao_C\n",
              "0         0        15944    20315.92  1.664203e+06    29941.92\n",
              "1         1        32475    44817.76  1.664203e+06   109498.47\n",
              "2         2        53894    67499.34  1.664203e+06   139831.67\n",
              "3         3        45049    72465.69  1.649678e+06   175619.31\n",
              "4         4        74550   100362.30  1.649678e+06   213007.15"
            ]
          },
          "execution_count": 6,
          "metadata": {},
          "output_type": "execute_result"
        }
      ],
      "source": [
        "comparativo_2020 = pd.merge(viagens_por_semana_2020, comparativo_2020, how='inner', on='n_semana')\n",
        "comparativo_2020.head()"
      ]
    },
    {
      "cell_type": "code",
      "execution_count": null,
      "metadata": {
        "id": "Ctvg_QrBUBao"
      },
      "outputs": [],
      "source": [
        "#Salvando em csv\n",
        "comparativo_2020.to_csv('comparativo_2020b.csv')"
      ]
    },
    {
      "cell_type": "code",
      "execution_count": null,
      "metadata": {
        "id": "uk_Di7IfUBap",
        "outputId": "3bc79937-58c6-4d88-d617-0cda2422bd2e"
      },
      "outputs": [
        {
          "data": {
            "text/html": [
              "<div>\n",
              "<style scoped>\n",
              "    .dataframe tbody tr th:only-of-type {\n",
              "        vertical-align: middle;\n",
              "    }\n",
              "\n",
              "    .dataframe tbody tr th {\n",
              "        vertical-align: top;\n",
              "    }\n",
              "\n",
              "    .dataframe thead th {\n",
              "        text-align: right;\n",
              "    }\n",
              "</style>\n",
              "<table border=\"1\" class=\"dataframe\">\n",
              "  <thead>\n",
              "    <tr style=\"text-align: right;\">\n",
              "      <th></th>\n",
              "      <th>Real 2020</th>\n",
              "      <th>Previsão 1</th>\n",
              "      <th>Previsão 2</th>\n",
              "      <th>Previsão 3</th>\n",
              "    </tr>\n",
              "  </thead>\n",
              "  <tbody>\n",
              "    <tr>\n",
              "      <th>0</th>\n",
              "      <td>15944</td>\n",
              "      <td>20315.92</td>\n",
              "      <td>1.664203e+06</td>\n",
              "      <td>29941.92</td>\n",
              "    </tr>\n",
              "    <tr>\n",
              "      <th>1</th>\n",
              "      <td>32475</td>\n",
              "      <td>44817.76</td>\n",
              "      <td>1.664203e+06</td>\n",
              "      <td>109498.47</td>\n",
              "    </tr>\n",
              "    <tr>\n",
              "      <th>2</th>\n",
              "      <td>53894</td>\n",
              "      <td>67499.34</td>\n",
              "      <td>1.664203e+06</td>\n",
              "      <td>139831.67</td>\n",
              "    </tr>\n",
              "    <tr>\n",
              "      <th>3</th>\n",
              "      <td>45049</td>\n",
              "      <td>72465.69</td>\n",
              "      <td>1.649678e+06</td>\n",
              "      <td>175619.31</td>\n",
              "    </tr>\n",
              "    <tr>\n",
              "      <th>4</th>\n",
              "      <td>74550</td>\n",
              "      <td>100362.30</td>\n",
              "      <td>1.649678e+06</td>\n",
              "      <td>213007.15</td>\n",
              "    </tr>\n",
              "  </tbody>\n",
              "</table>\n",
              "</div>"
            ],
            "text/plain": [
              "   Real 2020  Previsão 1    Previsão 2  Previsão 3\n",
              "0      15944    20315.92  1.664203e+06    29941.92\n",
              "1      32475    44817.76  1.664203e+06   109498.47\n",
              "2      53894    67499.34  1.664203e+06   139831.67\n",
              "3      45049    72465.69  1.649678e+06   175619.31\n",
              "4      74550   100362.30  1.649678e+06   213007.15"
            ]
          },
          "execution_count": 8,
          "metadata": {},
          "output_type": "execute_result"
        }
      ],
      "source": [
        "comparativo_2020 = comparativo_2020.drop(labels=['n_semana'], axis = 1)\n",
        "comparativo_2020.rename(columns={'qtd_viagens':'Real 2020', 'previsao_A':'Previsão 1', 'previsao_B':'Previsão 2', 'previsao_C':'Previsão 3'}, inplace = True)\n",
        "comparativo_2020.head()"
      ]
    },
    {
      "cell_type": "code",
      "execution_count": null,
      "metadata": {
        "id": "2UsMkf9HUBap",
        "outputId": "6a02cab0-9f42-4bf4-b6ba-e858fe76baf5"
      },
      "outputs": [
        {
          "data": {
            "text/plain": [
              "Real 2020      3264741.0\n",
              "Previsão 1     4295657.0\n",
              "Previsão 2    55066195.0\n",
              "Previsão 3     7334841.0\n",
              "dtype: float64"
            ]
          },
          "execution_count": 9,
          "metadata": {},
          "output_type": "execute_result"
        }
      ],
      "source": [
        "total = comparativo_2020.sum()\n",
        "total = round(total)\n",
        "total"
      ]
    },
    {
      "cell_type": "code",
      "execution_count": null,
      "metadata": {
        "id": "lVBL5EEoUBaq",
        "outputId": "b3b05b21-ca63-43f5-f417-12eaf10da41f"
      },
      "outputs": [
        {
          "data": {
            "text/html": [
              "<div>\n",
              "<style scoped>\n",
              "    .dataframe tbody tr th:only-of-type {\n",
              "        vertical-align: middle;\n",
              "    }\n",
              "\n",
              "    .dataframe tbody tr th {\n",
              "        vertical-align: top;\n",
              "    }\n",
              "\n",
              "    .dataframe thead th {\n",
              "        text-align: right;\n",
              "    }\n",
              "</style>\n",
              "<table border=\"1\" class=\"dataframe\">\n",
              "  <thead>\n",
              "    <tr style=\"text-align: right;\">\n",
              "      <th></th>\n",
              "      <th>index</th>\n",
              "      <th>0</th>\n",
              "    </tr>\n",
              "  </thead>\n",
              "  <tbody>\n",
              "    <tr>\n",
              "      <th>0</th>\n",
              "      <td>Real 2020</td>\n",
              "      <td>3264741.0</td>\n",
              "    </tr>\n",
              "    <tr>\n",
              "      <th>1</th>\n",
              "      <td>Previsão 1</td>\n",
              "      <td>4295657.0</td>\n",
              "    </tr>\n",
              "    <tr>\n",
              "      <th>2</th>\n",
              "      <td>Previsão 2</td>\n",
              "      <td>55066195.0</td>\n",
              "    </tr>\n",
              "    <tr>\n",
              "      <th>3</th>\n",
              "      <td>Previsão 3</td>\n",
              "      <td>7334841.0</td>\n",
              "    </tr>\n",
              "  </tbody>\n",
              "</table>\n",
              "</div>"
            ],
            "text/plain": [
              "        index           0\n",
              "0   Real 2020   3264741.0\n",
              "1  Previsão 1   4295657.0\n",
              "2  Previsão 2  55066195.0\n",
              "3  Previsão 3   7334841.0"
            ]
          },
          "execution_count": 10,
          "metadata": {},
          "output_type": "execute_result"
        }
      ],
      "source": [
        "total = pd.DataFrame(total)\n",
        "total = total.reset_index()\n",
        "total"
      ]
    },
    {
      "cell_type": "code",
      "execution_count": null,
      "metadata": {
        "id": "1WZYazfwUBar",
        "outputId": "aa087b17-c929-48b1-eafb-206638810b9d"
      },
      "outputs": [
        {
          "data": {
            "image/png": "[encoded data removed]",
            "text/plain": [
              "<Figure size 720x360 with 1 Axes>"
            ]
          },
          "metadata": {
            "needs_background": "light"
          },
          "output_type": "display_data"
        }
      ],
      "source": [
        "#Criando uma figure, axes\n",
        "fig, ax = plt.subplots(figsize=(10,5))\n",
        "\n",
        "#Criando o gráfico de barras \n",
        "ax = sns.barplot(x=total['index'], y=total[0], ax=ax, data=total, palette=\"Blues\")\n",
        "\n",
        "#Criando o layout\n",
        "ax.set_xlabel('Previsões')\n",
        "ax.set_ylabel('Quantidade de viagens')\n",
        "\n",
        "#Criando os rótulos dos dados\n",
        "for i in ax.patches:\n",
        "    h = i.get_height()\n",
        "    ax.annotate('{}'.format(h), xy = (i.get_x()+i.get_width()/2, h), xytext = (0,3), textcoords = 'offset points', ha = 'center')\n",
        "\n",
        "#Otimizando espaço da figure\n",
        "fig.tight_layout();"
      ]
    },
    {
      "cell_type": "code",
      "execution_count": null,
      "metadata": {
        "id": "Zzb93mIgUBas",
        "outputId": "6b55b7e4-d312-4697-a2d1-04861314f4a4"
      },
      "outputs": [
        {
          "data": {
            "text/plain": [
              "32"
            ]
          },
          "execution_count": 12,
          "metadata": {},
          "output_type": "execute_result"
        }
      ],
      "source": [
        "#Dif real 2020 e previsão 1\n",
        "round(((4295657 - 3264741) / 3264741) *100)"
      ]
    },
    {
      "cell_type": "code",
      "execution_count": null,
      "metadata": {
        "id": "AzFt1HS7UBat",
        "outputId": "c185bd23-77e6-47ef-85d3-7a777c4a5d19"
      },
      "outputs": [
        {
          "data": {
            "text/plain": [
              "1587"
            ]
          },
          "execution_count": 13,
          "metadata": {},
          "output_type": "execute_result"
        }
      ],
      "source": [
        "#Dif real 2020 e previsão 2\n",
        "round(((55066195 - 3264741) / 3264741) *100)"
      ]
    },
    {
      "cell_type": "code",
      "execution_count": null,
      "metadata": {
        "id": "kH0T7_crUBat",
        "outputId": "3a2166d2-5a0b-482f-cf54-e3b000cc8d1e"
      },
      "outputs": [
        {
          "data": {
            "text/plain": [
              "125"
            ]
          },
          "execution_count": 14,
          "metadata": {},
          "output_type": "execute_result"
        }
      ],
      "source": [
        "#Dif real 2020 e previsão 3\n",
        "round(((7334841 - 3264741) / 3264741) *100)"
      ]
    }
  ],
  "metadata": {
    "kernelspec": {
      "display_name": "Python 3",
      "language": "python",
      "name": "python3"
    },
    "language_info": {
      "codemirror_mode": {
        "name": "ipython",
        "version": 3
      },
      "file_extension": ".py",
      "mimetype": "text/x-python",
      "name": "python",
      "nbconvert_exporter": "python",
      "pygments_lexer": "ipython3",
      "version": "3.8.5"
    },
    "colab": {
      "provenance": [],
      "include_colab_link": true
    }
  },
  "nbformat": 4,
  "nbformat_minor": 0
}