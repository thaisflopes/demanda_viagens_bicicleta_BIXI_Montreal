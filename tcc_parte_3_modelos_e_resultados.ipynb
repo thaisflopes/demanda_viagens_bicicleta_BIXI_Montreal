{
  "cells": [
    {
      "cell_type": "markdown",
      "metadata": {
        "id": "view-in-github",
        "colab_type": "text"
      },
      "source": [
        "<a href=\"https://colab.research.google.com/github/thaisflopes/demanda_viagens_bicicleta_BIXI_Montreal/blob/main/tcc_parte_3_modelos_e_resultados.ipynb\" target=\"_parent\"><img src=\"https://colab.research.google.com/assets/colab-badge.svg\" alt=\"Open In Colab\"/></a>"
      ]
    },
    {
      "cell_type": "markdown",
      "metadata": {
        "id": "nZBh-CFB9mZp"
      },
      "source": [
        "### Código do trabalho de conclusão de curso\n",
        "### Parte 3 - Modelos e resultados\n",
        "\n",
        "Código desenvolvido para o trabalho de conclusão *Comparando métodos de aprendizado de máquina para previsão da demanda de viagens de bicicletas da BIXI Montreal e análise do efeito da pandemia de COVID-19 na demanda de 2020*, elaborado por Thaís Lopes (https://github.com/thaisflopes) em novembro de 2021.\n",
        "\n",
        "Link para acessar o trabalho completo: https://repositorio.uniceub.br/jspui/handle/prefix/15956\n"
      ]
    },
    {
      "cell_type": "markdown",
      "metadata": {
        "id": "nSo1xklF9mZ4"
      },
      "source": [
        "## Baixando as bases de dados"
      ]
    },
    {
      "cell_type": "code",
      "execution_count": null,
      "metadata": {
        "id": "kvYjQmhk9mZ7"
      },
      "outputs": [],
      "source": [
        "#Importando bibliotecas\n",
        "import numpy as np\n",
        "import pandas as pd\n",
        "import matplotlib.pyplot as plt\n",
        "from matplotlib import pyplot\n",
        "!pip install plotly\n",
        "import plotly.offline as py\n",
        "import plotly.graph_objs as go\n",
        "py.init_notebook_mode(connected=True)\n",
        "import seaborn as sns\n",
        "from sklearn import metrics"
      ]
    },
    {
      "cell_type": "code",
      "execution_count": null,
      "metadata": {
        "id": "UAu4CXJASw5f"
      },
      "outputs": [],
      "source": [
        "#Carregando as bases de dados\n",
        "dados_2019 = pd.read_csv(\"dados_2019.csv\")\n",
        "dados_2020 = pd.read_csv(\"dados_2020.csv\")\n",
        "simulacao_2020 = pd.read_csv(\"simulacao_2020.csv\")"
      ]
    },
    {
      "cell_type": "code",
      "execution_count": null,
      "metadata": {
        "id": "GDGjUchBSw5g"
      },
      "outputs": [],
      "source": [
        "simulacao_2020b = pd.read_csv(\"simulacao_2020b.csv\")"
      ]
    },
    {
      "cell_type": "markdown",
      "metadata": {
        "id": "z74EJyuqSw5g"
      },
      "source": [
        "## Tratando os dados"
      ]
    },
    {
      "cell_type": "code",
      "execution_count": null,
      "metadata": {
        "id": "pUBcWtmqSw5h"
      },
      "outputs": [],
      "source": [
        "dados_2019.head()"
      ]
    },
    {
      "cell_type": "code",
      "execution_count": null,
      "metadata": {
        "id": "csBlELj9Sw5h"
      },
      "outputs": [],
      "source": [
        "dados_2019 = dados_2019.drop(labels=['Unnamed: 0', 'semana', 'semana,inicio,fim,membro' ], axis = 1)\n",
        "dados_2019.head()"
      ]
    },
    {
      "cell_type": "code",
      "execution_count": null,
      "metadata": {
        "id": "8Cyn-q_MSw5i"
      },
      "outputs": [],
      "source": [
        "dados_2020.head()"
      ]
    },
    {
      "cell_type": "code",
      "execution_count": null,
      "metadata": {
        "id": "_Hx3kFcASw5j"
      },
      "outputs": [],
      "source": [
        "dados_2020 = dados_2020.drop(labels=['Unnamed: 0', 'semana', 'semana,inicio,fim,membro'], axis = 1)\n",
        "dados_2020.head()"
      ]
    },
    {
      "cell_type": "code",
      "execution_count": null,
      "metadata": {
        "id": "bALvKaeaSw5k"
      },
      "outputs": [],
      "source": [
        "simulacao_2020.head()"
      ]
    },
    {
      "cell_type": "code",
      "execution_count": null,
      "metadata": {
        "id": "ayVzKH8ESw5l"
      },
      "outputs": [],
      "source": [
        "simulacao_2020 = simulacao_2020.drop(labels=['Unnamed: 0', 'n_semana,inicio,fim,membro'], axis = 1)\n",
        "simulacao_2020.head()"
      ]
    },
    {
      "cell_type": "code",
      "execution_count": null,
      "metadata": {
        "id": "PtWowhzfSw5l"
      },
      "outputs": [],
      "source": [
        "simulacao_2020b.head()"
      ]
    },
    {
      "cell_type": "code",
      "execution_count": null,
      "metadata": {
        "id": "g6k-4b1LSw5m"
      },
      "outputs": [],
      "source": [
        "simulacao_2020b = simulacao_2020b.drop(labels=['Unnamed: 0', 'n_semana,inicio,fim,membro'], axis = 1)\n",
        "simulacao_2020b.head()"
      ]
    },
    {
      "cell_type": "markdown",
      "metadata": {
        "id": "mErT6EMpSw5m"
      },
      "source": [
        "### Dividindo os dados de 2019 em dados de treino e teste"
      ]
    },
    {
      "cell_type": "code",
      "execution_count": null,
      "metadata": {
        "id": "AcRGvBFsSw5n"
      },
      "outputs": [],
      "source": [
        "#Dividindo a base em X e y (só a coluna viagens)\n",
        "X = dados_2019.drop(['qtd_viagens'], axis=1).values\n",
        "y = dados_2019['qtd_viagens'].values"
      ]
    },
    {
      "cell_type": "code",
      "execution_count": null,
      "metadata": {
        "id": "bUjsUizSSw5n"
      },
      "outputs": [],
      "source": [
        "X.shape"
      ]
    },
    {
      "cell_type": "code",
      "execution_count": null,
      "metadata": {
        "id": "US9GsSy1Sw5o"
      },
      "outputs": [],
      "source": [
        "y.shape"
      ]
    },
    {
      "cell_type": "code",
      "execution_count": null,
      "metadata": {
        "id": "iEdfInEO9mgJ"
      },
      "outputs": [],
      "source": [
        "#Divindo os dados em treino e teste\n",
        "from sklearn.model_selection import train_test_split \n",
        "X_train, X_test, y_train, y_test = train_test_split(X, y, test_size=0.2, random_state=0)"
      ]
    },
    {
      "cell_type": "markdown",
      "metadata": {
        "id": "dU0ymQwOSw5p"
      },
      "source": [
        "### Definindo os Xs para as previsões de 2020"
      ]
    },
    {
      "cell_type": "code",
      "execution_count": null,
      "metadata": {
        "id": "xsMngwzdSw5p"
      },
      "outputs": [],
      "source": [
        "#Definindo o X_2020a (base dados_2020)\n",
        "X_2020a = dados_2020.drop(['qtd_viagens'], axis=1).values"
      ]
    },
    {
      "cell_type": "code",
      "execution_count": null,
      "metadata": {
        "id": "v56GNxVsSw5q"
      },
      "outputs": [],
      "source": [
        "#Definindo o X_2020b (base simulacao_2020)\n",
        "X_2020b = simulacao_2020.drop(['qtd_viagens'], axis=1).values"
      ]
    },
    {
      "cell_type": "code",
      "execution_count": null,
      "metadata": {
        "id": "Odx3PDFrSw5q"
      },
      "outputs": [],
      "source": [
        "#Definindo o X_2020b (base simulacao_2020b)\n",
        "X_2020c = simulacao_2020b.drop(['qtd_viagens_y'], axis=1).values"
      ]
    },
    {
      "cell_type": "markdown",
      "metadata": {
        "id": "OSsJF7Xw9mgT"
      },
      "source": [
        "## Regressão Linear"
      ]
    },
    {
      "cell_type": "code",
      "execution_count": null,
      "metadata": {
        "id": "TD-1I86M9mgW"
      },
      "outputs": [],
      "source": [
        "#Baixando a biblioteca e instanciando o algoritmo de regressão linear\n",
        "from sklearn.linear_model import LinearRegression\n",
        "modelo_rl = LinearRegression()  "
      ]
    },
    {
      "cell_type": "markdown",
      "metadata": {
        "id": "D-zI8_pe9mgk"
      },
      "source": [
        "### Treinamento"
      ]
    },
    {
      "cell_type": "code",
      "execution_count": null,
      "metadata": {
        "id": "lttbOcjI9mgm"
      },
      "outputs": [],
      "source": [
        "#Treinando o modelo de regressão linear\n",
        "modelo_rl.fit(X_train, y_train)"
      ]
    },
    {
      "cell_type": "markdown",
      "metadata": {
        "id": "WQMDIGRj9mgx"
      },
      "source": [
        "### Previsão"
      ]
    },
    {
      "cell_type": "code",
      "execution_count": null,
      "metadata": {
        "id": "lOaIUkXa9mgz"
      },
      "outputs": [],
      "source": [
        "#Predição com os dados de teste\n",
        "y_pred_rl = modelo_rl.predict(X_test)"
      ]
    },
    {
      "cell_type": "markdown",
      "metadata": {
        "id": "PoXMaAZs9mg9"
      },
      "source": [
        "### Visualização dos resultados"
      ]
    },
    {
      "cell_type": "code",
      "execution_count": null,
      "metadata": {
        "id": "2xEKC5Ys9mg_"
      },
      "outputs": [],
      "source": [
        "#Gráfico para visualizar o número de viagens real e os obtidos com o modelo\n",
        "pyplot.figure(figsize=(10, 5))\n",
        "pyplot.plot(y_test, color='blue', label=\"Número de viagens realizadas\")\n",
        "pyplot.plot(y_pred_rl, color='red', label=\"Número de viagens previstas\")\n",
        "pyplot.legend()\n",
        "pyplot.show()"
      ]
    },
    {
      "cell_type": "markdown",
      "metadata": {
        "id": "7Fwu3Y499mhN"
      },
      "source": [
        "### Avaliação dos resultados"
      ]
    },
    {
      "cell_type": "code",
      "execution_count": null,
      "metadata": {
        "id": "dfRnCH5a9mhP"
      },
      "outputs": [],
      "source": [
        "MAE_rl = metrics.mean_absolute_error(y_test, y_pred_rl)\n",
        "MSE_rl = metrics.mean_squared_error(y_test, y_pred_rl)\n",
        "RMSE_rl = np.sqrt(metrics.mean_squared_error(y_test, y_pred_rl))\n",
        "Score_rl_treino = modelo_rl.score(X_train, y_train)\n",
        "Score_rl_teste = modelo_rl.score(X_test, y_test)\n",
        "metricas_rl = (MAE_rl, MSE_rl, RMSE_rl, Score_rl_treino, Score_rl_teste)\n",
        "regressao_linear = pd.DataFrame(metricas_rl, index=[\"MAE\", \"MSE\", \"RMSE\", \"Score - treino\", \"Score - teste\"], columns=[\"Regressão linear\"])\n",
        "regressao_linear"
      ]
    },
    {
      "cell_type": "markdown",
      "metadata": {
        "id": "iBIBmrsd9mhc"
      },
      "source": [
        "## Árvore de decisão"
      ]
    },
    {
      "cell_type": "code",
      "execution_count": null,
      "metadata": {
        "id": "am3aFemh9mhd"
      },
      "outputs": [],
      "source": [
        "#Baixando a biblioteca e instanciando o algoritmo de árvore de decisão\n",
        "from sklearn.tree import DecisionTreeRegressor\n",
        "modelo_arvore = DecisionTreeRegressor()"
      ]
    },
    {
      "cell_type": "markdown",
      "metadata": {
        "id": "6hqGcKki9mho"
      },
      "source": [
        "### Treinamento"
      ]
    },
    {
      "cell_type": "code",
      "execution_count": null,
      "metadata": {
        "id": "73wB8nOw9mhq"
      },
      "outputs": [],
      "source": [
        "#Treinando o modelo de árvore de decisão\n",
        "modelo_arvore.fit(X_train, y_train)"
      ]
    },
    {
      "cell_type": "markdown",
      "metadata": {
        "id": "pW0oMn6K9mh0"
      },
      "source": [
        "### Previsão¶"
      ]
    },
    {
      "cell_type": "code",
      "execution_count": null,
      "metadata": {
        "id": "UYA6xJ8l9mh2"
      },
      "outputs": [],
      "source": [
        "#Predição com os dados de teste\n",
        "y_pred_arvore = modelo_arvore.predict(X_test)"
      ]
    },
    {
      "cell_type": "markdown",
      "metadata": {
        "id": "Q-qDVIFd9miB"
      },
      "source": [
        "### Visualização dos resultados"
      ]
    },
    {
      "cell_type": "code",
      "execution_count": null,
      "metadata": {
        "id": "hN2P4WpB9miG"
      },
      "outputs": [],
      "source": [
        "#Gráfico para visualizar o número de viagens real e os obtidos com o modelo\n",
        "pyplot.figure(figsize=(10, 5))\n",
        "pyplot.plot(y_test, color='blue', label=\"Número de viagens realizadas\")\n",
        "pyplot.plot(y_pred_arvore, color='red', label=\"Número de viagens previstas\")\n",
        "pyplot.legend()\n",
        "pyplot.show()"
      ]
    },
    {
      "cell_type": "markdown",
      "metadata": {
        "id": "M2TQVT8A9mil"
      },
      "source": [
        "### Avaliação dos resultados"
      ]
    },
    {
      "cell_type": "code",
      "execution_count": null,
      "metadata": {
        "id": "IeABKiHo9min"
      },
      "outputs": [],
      "source": [
        "MAE_arvore = metrics.mean_absolute_error(y_test, y_pred_arvore)\n",
        "MSE_arvore = metrics.mean_squared_error(y_test, y_pred_arvore)\n",
        "RMSE_arvore = np.sqrt(metrics.mean_squared_error(y_test, y_pred_arvore))\n",
        "Score_arvore_treino = modelo_arvore.score(X_train, y_train)\n",
        "Score_arvore_teste = modelo_arvore.score(X_test, y_test)\n",
        "metricas_arvore = (MAE_arvore, MSE_arvore, RMSE_arvore, Score_arvore_treino, Score_arvore_teste)\n",
        "arvore_decisao = pd.DataFrame(metricas_arvore, index=[\"MAE\", \"MSE\", \"RMSE\", \"Score - treino\", \"Score - teste\"], columns=[\"Árvore de decisão\"])\n",
        "arvore_decisao"
      ]
    },
    {
      "cell_type": "markdown",
      "metadata": {
        "id": "EchxfIYO9mjC"
      },
      "source": [
        "## Random Forest"
      ]
    },
    {
      "cell_type": "code",
      "execution_count": null,
      "metadata": {
        "id": "rnssR_6i9mjE"
      },
      "outputs": [],
      "source": [
        "#Baixando a biblioteca e instanciando o algoritmo de random forest\n",
        "from sklearn.ensemble import RandomForestRegressor\n",
        "modelo_rf = RandomForestRegressor()"
      ]
    },
    {
      "cell_type": "markdown",
      "metadata": {
        "id": "42ZBICBU9mjQ"
      },
      "source": [
        "### Treinamento"
      ]
    },
    {
      "cell_type": "code",
      "execution_count": null,
      "metadata": {
        "id": "6Ku52IRo9mjS"
      },
      "outputs": [],
      "source": [
        "#Treinando o modelo de random forest\n",
        "modelo_rf.fit(X_train, y_train)"
      ]
    },
    {
      "cell_type": "markdown",
      "metadata": {
        "id": "4vappwpN9mjm"
      },
      "source": [
        "### Previsão¶"
      ]
    },
    {
      "cell_type": "code",
      "execution_count": null,
      "metadata": {
        "id": "xIsAVsy49mjn"
      },
      "outputs": [],
      "source": [
        "#Predição com os dados de teste\n",
        "y_pred_rf = modelo_rf.predict(X_test)"
      ]
    },
    {
      "cell_type": "markdown",
      "metadata": {
        "id": "Dfcms3HL9mj0"
      },
      "source": [
        "### Visualização dos resultados"
      ]
    },
    {
      "cell_type": "code",
      "execution_count": null,
      "metadata": {
        "id": "8CKJg-DO9mj1"
      },
      "outputs": [],
      "source": [
        "#Gráfico para visualizar o número de viagens real e os obtidos com o modelo\n",
        "pyplot.figure(figsize=(10, 5))\n",
        "pyplot.plot(y_test, color='blue', label=\"Número de viagens realizadas\")\n",
        "pyplot.plot(y_pred_rf, color='red', label=\"Número de viagens previstas\")\n",
        "pyplot.legend()\n",
        "pyplot.show()"
      ]
    },
    {
      "cell_type": "markdown",
      "metadata": {
        "id": "2cJ4xs9Y9mkE"
      },
      "source": [
        "### Avaliação dos resultados¶"
      ]
    },
    {
      "cell_type": "code",
      "execution_count": null,
      "metadata": {
        "id": "oS2laxpb9mkH"
      },
      "outputs": [],
      "source": [
        "MAE_rf = metrics.mean_absolute_error(y_test, y_pred_rf)\n",
        "MSE_rf = metrics.mean_squared_error(y_test, y_pred_rf)\n",
        "RMSE_rf = np.sqrt(metrics.mean_squared_error(y_test, y_pred_rf))\n",
        "Score_rf_treino = modelo_rf.score(X_train, y_train)\n",
        "Score_rf_teste = modelo_rf.score(X_test, y_test)\n",
        "metricas_rf = (MAE_rf, MSE_rf, RMSE_rf, Score_rf_treino, Score_rf_teste)\n",
        "random_forest = pd.DataFrame(metricas_rf, index=[\"MAE\", \"MSE\", \"RMSE\", \"Score - treino\", \"Score - teste\"], columns=[\"Random forest\"])\n",
        "random_forest"
      ]
    },
    {
      "cell_type": "markdown",
      "metadata": {
        "id": "WcQPWkPu9mkq"
      },
      "source": [
        "## Algoritmo XGBoost"
      ]
    },
    {
      "cell_type": "code",
      "execution_count": null,
      "metadata": {
        "id": "ABEk2fDn9mkr"
      },
      "outputs": [],
      "source": [
        "!pip install xgboost\n",
        "import xgboost as xgb"
      ]
    },
    {
      "cell_type": "code",
      "execution_count": null,
      "metadata": {
        "id": "PNlyrkJ-9mk5"
      },
      "outputs": [],
      "source": [
        "#Instanciando o modelo do XGBoost\n",
        "modelo_xgb = xgb.XGBRegressor(objective=\"reg:squarederror\", random_state=42)"
      ]
    },
    {
      "cell_type": "markdown",
      "metadata": {
        "id": "vJZVQ_5uSw54"
      },
      "source": [
        "Observação: Estava utilizando objective=\"reg:linear\", mas apareceu esse erro:\n",
        "\n",
        "[13:14:42] WARNING: C:/Users/Administrator/workspace/xgboost-win64_release_1.2.0/src/objective/regression_obj.cu:174: reg:linear is now deprecated in favor of reg:squarederror.\n",
        "\n",
        "Por isso, alterei para objective=\"reg:squarederror\"."
      ]
    },
    {
      "cell_type": "markdown",
      "metadata": {
        "id": "PHSZ4TYW9mlB"
      },
      "source": [
        "### Treinamento"
      ]
    },
    {
      "cell_type": "code",
      "execution_count": null,
      "metadata": {
        "id": "nwkFHKGE9mlP"
      },
      "outputs": [],
      "source": [
        "#Treinando o modelo de xgboost\n",
        "modelo_xgb.fit(X_train, y_train)"
      ]
    },
    {
      "cell_type": "markdown",
      "metadata": {
        "id": "-owMFRwe9mlg"
      },
      "source": [
        "### Previsão"
      ]
    },
    {
      "cell_type": "code",
      "execution_count": null,
      "metadata": {
        "id": "BWwqCY3F9mli"
      },
      "outputs": [],
      "source": [
        "#Predição com os dados de teste\n",
        "y_pred_xgb = modelo_xgb.predict(X_test)"
      ]
    },
    {
      "cell_type": "markdown",
      "metadata": {
        "id": "ST_nppEc9mlq"
      },
      "source": [
        "### Visualização dos resultados"
      ]
    },
    {
      "cell_type": "code",
      "execution_count": null,
      "metadata": {
        "id": "w3hj8ih49mmJ"
      },
      "outputs": [],
      "source": [
        "#Gráfico para visualizar o número de viagens real e os obtidos com o modelo\n",
        "pyplot.figure(figsize=(10, 5))\n",
        "pyplot.plot(y_test, color='blue', label=\"Número de viagens realizadas\")\n",
        "pyplot.plot(y_pred_xgb, color='red', label=\"Número de viagens previstas\")\n",
        "pyplot.legend()\n",
        "pyplot.show()"
      ]
    },
    {
      "cell_type": "markdown",
      "metadata": {
        "id": "j62ONGwZ9mmT"
      },
      "source": [
        "### Avaliação dos resultados"
      ]
    },
    {
      "cell_type": "code",
      "execution_count": null,
      "metadata": {
        "id": "CXar9Yp09mmW"
      },
      "outputs": [],
      "source": [
        "MAE_xgb = metrics.mean_absolute_error(y_test, y_pred_xgb)\n",
        "MSE_xgb = metrics.mean_squared_error(y_test, y_pred_xgb)\n",
        "RMSE_xgb = np.sqrt(metrics.mean_squared_error(y_test, y_pred_xgb))\n",
        "Score_xgb_treino = modelo_xgb.score(X_train, y_train)\n",
        "Score_xgb_teste = modelo_xgb.score(X_test, y_test)\n",
        "metricas_xgb = (MAE_xgb, MSE_xgb, RMSE_xgb, Score_xgb_treino, Score_xgb_teste)\n",
        "xgboost = pd.DataFrame(metricas_xgb, index=[\"MAE\", \"MSE\", \"RMSE\", \"Score - treino\", \"Score - teste\"], columns=[\"XGBoost\"])\n",
        "xgboost"
      ]
    },
    {
      "cell_type": "markdown",
      "metadata": {
        "id": "o6xsszNE9mmm"
      },
      "source": [
        "## Avaliando desempenho dos modelos"
      ]
    },
    {
      "cell_type": "code",
      "execution_count": null,
      "metadata": {
        "id": "y5PW1RS6Sw58"
      },
      "outputs": [],
      "source": [
        "#Juntando os resultados das métricas\n",
        "metricas = pd.concat([regressao_linear, arvore_decisao, random_forest, xgboost], axis=1)\n",
        "metricas.to_csv('metricas.csv')\n",
        "metricas"
      ]
    },
    {
      "cell_type": "markdown",
      "metadata": {
        "id": "xJF5UrhISw58"
      },
      "source": [
        "## Previsão da demanda de 2020\n",
        "\n",
        "### Utilizando a base de registros de 2020"
      ]
    },
    {
      "cell_type": "code",
      "execution_count": null,
      "metadata": {
        "id": "1b8HxokjSw59"
      },
      "outputs": [],
      "source": [
        "#Prevendo a demanda de 2020\n",
        "y_pred_2020a = modelo_rf.predict(X_2020a)"
      ]
    },
    {
      "cell_type": "code",
      "execution_count": null,
      "metadata": {
        "id": "91v6X4urSw59"
      },
      "outputs": [],
      "source": [
        "#Transformando y_pred_2020 em dataframe\n",
        "y_pred_2020a = pd.DataFrame(y_pred_2020a, columns = ['previsao_A'])"
      ]
    },
    {
      "cell_type": "code",
      "execution_count": null,
      "metadata": {
        "id": "Le50CM1bSw59"
      },
      "outputs": [],
      "source": [
        "#Transformando X_2020a em dataframe\n",
        "X_2020a = pd.DataFrame(X_2020a, columns = ['start_station_code', 'end_station_code', 'is_member', 'ano', 'mes', 'n_semana'])"
      ]
    },
    {
      "cell_type": "code",
      "execution_count": null,
      "metadata": {
        "id": "LBKGGuo1Sw5-"
      },
      "outputs": [],
      "source": [
        "#Juntando X_2020a e y_pred_2020a\n",
        "previsao_2020a = pd.merge(X_2020a, y_pred_2020a, left_index=True, right_index=True, how='inner')\n",
        "previsao_2020a.head()"
      ]
    },
    {
      "cell_type": "markdown",
      "metadata": {
        "id": "IueK9LgNSw5-"
      },
      "source": [
        "### Utilizando as bases simuladas\n",
        "\n",
        "#### Base com todas as combinações possiveis de 2020"
      ]
    },
    {
      "cell_type": "code",
      "execution_count": null,
      "metadata": {
        "id": "4ZdgR2szSw5_"
      },
      "outputs": [],
      "source": [
        "#Prevendo a demanda de 2020\n",
        "y_pred_2020b = modelo_rf.predict(X_2020b)"
      ]
    },
    {
      "cell_type": "code",
      "execution_count": null,
      "metadata": {
        "id": "usldZeOKSw5_"
      },
      "outputs": [],
      "source": [
        "#Transformando y_pred_2020 em dataframe\n",
        "y_pred_2020b = pd.DataFrame(y_pred_2020b, columns = ['previsao_B'])"
      ]
    },
    {
      "cell_type": "code",
      "execution_count": null,
      "metadata": {
        "id": "Vhr4xf52Sw5_"
      },
      "outputs": [],
      "source": [
        "#Transformando X_2020b em dataframe\n",
        "X_2020b = pd.DataFrame(X_2020b, columns = ['n_semana', 'start_station_code', 'end_station_code', 'is_member', 'ano', 'mes'])"
      ]
    },
    {
      "cell_type": "code",
      "execution_count": null,
      "metadata": {
        "id": "k7Ag5XPXSw6A"
      },
      "outputs": [],
      "source": [
        "#Juntando X_2020b e y_pred_2020b\n",
        "previsao_2020b = pd.merge(X_2020b, y_pred_2020b, left_index=True, right_index=True, how='inner')\n",
        "previsao_2020b.head()"
      ]
    },
    {
      "cell_type": "markdown",
      "metadata": {
        "id": "uuRmm2c1Sw6A"
      },
      "source": [
        "#### Base combinando os registros de 2019 e 2020"
      ]
    },
    {
      "cell_type": "code",
      "execution_count": null,
      "metadata": {
        "id": "Cd3cthIqSw6A"
      },
      "outputs": [],
      "source": [
        "#Prevendo a demanda de 2020\n",
        "y_pred_2020c = modelo_rf.predict(X_2020c)"
      ]
    },
    {
      "cell_type": "code",
      "execution_count": null,
      "metadata": {
        "id": "28Y7wzWOSw6B"
      },
      "outputs": [],
      "source": [
        "#Transformando y_pred_2020 em dataframe\n",
        "y_pred_2020c = pd.DataFrame(y_pred_2020c, columns = ['previsao_C'])"
      ]
    },
    {
      "cell_type": "code",
      "execution_count": null,
      "metadata": {
        "id": "rNVBWM-_Sw6B"
      },
      "outputs": [],
      "source": [
        "#Transformando X_2020c em dataframe\n",
        "X_2020c = pd.DataFrame(X_2020c, columns = ['start_station_code', 'end_station_code', 'is_member', 'ano', 'mes', 'n_semana'])"
      ]
    },
    {
      "cell_type": "code",
      "execution_count": null,
      "metadata": {
        "id": "_89B8WjISw6B"
      },
      "outputs": [],
      "source": [
        "#Juntando X_2020c e y_pred_2020c\n",
        "previsao_2020c = pd.merge(X_2020c, y_pred_2020c, left_index=True, right_index=True, how='inner')\n",
        "previsao_2020c.head()"
      ]
    },
    {
      "cell_type": "markdown",
      "metadata": {
        "id": "IkIS3KS4Sw6C"
      },
      "source": [
        "### Gráfico da demanda"
      ]
    },
    {
      "cell_type": "code",
      "execution_count": null,
      "metadata": {
        "id": "aZx9k1mWSw6C"
      },
      "outputs": [],
      "source": [
        "#Calculando a quantidade total de viagens por semana - 2019\n",
        "viagens_por_semana_2019 = dados_2019.groupby(['n_semana'])['qtd_viagens'].sum()\n",
        "viagens_por_semana_2019 = pd.DataFrame(viagens_por_semana_2019)\n",
        "viagens_por_semana_2019 = viagens_por_semana_2019.reset_index()\n",
        "viagens_por_semana_2019.head()"
      ]
    },
    {
      "cell_type": "code",
      "execution_count": null,
      "metadata": {
        "id": "Rxr518NESw6D"
      },
      "outputs": [],
      "source": [
        "#Calculando a quantidade total de viagens por semana - 2020\n",
        "viagens_por_semana_2020 = dados_2020.groupby(['n_semana'])['qtd_viagens'].sum()\n",
        "viagens_por_semana_2020 = pd.DataFrame(viagens_por_semana_2020)\n",
        "viagens_por_semana_2020 = viagens_por_semana_2020.reset_index()\n",
        "viagens_por_semana_2020.head()"
      ]
    },
    {
      "cell_type": "code",
      "execution_count": null,
      "metadata": {
        "id": "q_JJxcC7Sw6D"
      },
      "outputs": [],
      "source": [
        "#Calculando a quantidade total de viagens por semana - Previsão A\n",
        "previsao_2020a = previsao_2020a.groupby(['n_semana'])['previsao_A'].sum()\n",
        "previsao_2020a = pd.DataFrame(previsao_2020a)\n",
        "previsao_2020a = previsao_2020a.reset_index()\n",
        "previsao_2020a.head()"
      ]
    },
    {
      "cell_type": "code",
      "execution_count": null,
      "metadata": {
        "id": "eTIC-ytCSw6D"
      },
      "outputs": [],
      "source": [
        "#Calculando a quantidade total de viagens por semana - Previsão B\n",
        "previsao_2020b = previsao_2020b.groupby(['n_semana'])['previsao_B'].sum()\n",
        "previsao_2020b = pd.DataFrame(previsao_2020b)\n",
        "previsao_2020b = previsao_2020b.reset_index()\n",
        "previsao_2020b.head()"
      ]
    },
    {
      "cell_type": "code",
      "execution_count": null,
      "metadata": {
        "id": "wQBLF4v6Sw6E"
      },
      "outputs": [],
      "source": [
        "#Calculando a quantidade total de viagens por semana - Previsão C\n",
        "previsao_2020c = previsao_2020c.groupby(['n_semana'])['previsao_C'].sum()\n",
        "previsao_2020c = pd.DataFrame(previsao_2020c)\n",
        "previsao_2020c = previsao_2020c.reset_index()\n",
        "previsao_2020c.head()"
      ]
    },
    {
      "cell_type": "code",
      "execution_count": null,
      "metadata": {
        "id": "C_bUeW8hSw6E"
      },
      "outputs": [],
      "source": [
        "#Gráfico da quantidade total de viagens por semana\n",
        "\n",
        "#Criando o gráfico\n",
        "grafico_2019 = go.Scatter(x = viagens_por_semana_2019['n_semana'], y = viagens_por_semana_2019['qtd_viagens'], mode = 'markers+lines', name = 'Viagens em 2019')\n",
        "grafico_2020 = go.Scatter(x = viagens_por_semana_2020['n_semana'], y = viagens_por_semana_2020['qtd_viagens'], mode = 'markers+lines', name = 'Viagens em 2020')\n",
        "grafico_previsao_2020a = go.Scatter(x = previsao_2020a['n_semana'], y = previsao_2020a['previsao_A'], mode = 'markers+lines', name = 'Viagens previstas em 2020 (previsão usando a base de registros de 2020)')\n",
        "grafico_previsao_2020b = go.Scatter(x = previsao_2020b['n_semana'], y = previsao_2020b['previsao_B'], mode = 'markers+lines', name = 'Viagens previstas em 2020 (previsão usando a base de todas as combinações de 2020)')\n",
        "grafico_previsao_2020c = go.Scatter(x = previsao_2020c['n_semana'], y = previsao_2020c['previsao_C'], mode = 'markers+lines', name = 'Viagens previstas em 2020 (previsão usando a base de registros de 2019 e 2020)')\n",
        "\n",
        "#Armazenando os gráficos em uma lista\n",
        "graficos = [grafico_2019, grafico_2020, grafico_previsao_2020a, grafico_previsao_2020b, grafico_previsao_2020c]\n",
        "\n",
        "#Criando o layout\n",
        "layout = go.Layout(title='Comparação de previsões do ano 2020',\n",
        "                   yaxis={'title':'Quantidade de viagens'},\n",
        "                   xaxis={'title': 'Semanas'})\n",
        "\n",
        "#Criando a figura que será exibida\n",
        "fig = go.Figure(data=graficos, layout=layout)\n",
        "fig.update_layout(legend=dict(orientation='h'))\n",
        "\n",
        "#Exibindo o gráfico\n",
        "py.iplot(fig)"
      ]
    },
    {
      "cell_type": "markdown",
      "metadata": {
        "id": "Mkk_Z6xESw6E"
      },
      "source": [
        "### Tabela comparativa"
      ]
    },
    {
      "cell_type": "code",
      "execution_count": null,
      "metadata": {
        "scrolled": false,
        "id": "TCTY70LFSw6F"
      },
      "outputs": [],
      "source": [
        "#Juntando viagens_2020 e previsao_2020\n",
        "comparativo_2020 = pd.merge(viagens_por_semana_2020, previsao_2020a, how='inner', on='n_semana')\n",
        "comparativo_2020 = pd.merge(comparativo_2020, previsao_2020b, how='inner', on='n_semana')\n",
        "comparativo_2020 = pd.merge(comparativo_2020, previsao_2020c, how='inner', on='n_semana')\n",
        "comparativo_2020.head()"
      ]
    },
    {
      "cell_type": "code",
      "execution_count": null,
      "metadata": {
        "id": "ZvfyKbbQSw6F"
      },
      "outputs": [],
      "source": [
        "#Salvando em csv\n",
        "comparativo_2020.to_csv('comparativo_2020.csv')"
      ]
    }
  ],
  "metadata": {
    "colab": {
      "provenance": [],
      "include_colab_link": true
    },
    "kernelspec": {
      "display_name": "Python 3",
      "language": "python",
      "name": "python3"
    },
    "language_info": {
      "codemirror_mode": {
        "name": "ipython",
        "version": 3
      },
      "file_extension": ".py",
      "mimetype": "text/x-python",
      "name": "python",
      "nbconvert_exporter": "python",
      "pygments_lexer": "ipython3",
      "version": "3.8.5"
    }
  },
  "nbformat": 4,
  "nbformat_minor": 0
}