{
  "cells": [
    {
      "cell_type": "markdown",
      "metadata": {
        "id": "view-in-github",
        "colab_type": "text"
      },
      "source": [
        "<a href=\"https://colab.research.google.com/github/thaisflopes/demanda_viagens_bicicleta_BIXI_Montreal/blob/main/tcc_parte_1_tratamento_dos_dados.ipynb\" target=\"_parent\"><img src=\"https://colab.research.google.com/assets/colab-badge.svg\" alt=\"Open In Colab\"/></a>"
      ]
    },
    {
      "cell_type": "markdown",
      "metadata": {
        "id": "nZBh-CFB9mZp"
      },
      "source": [
        "### Código do trabalho de conclusão de curso\n",
        "### Parte 1 - Tratamento dos dados\n",
        "\n",
        "Código desenvolvido para o trabalho de conclusão *Comparando métodos de aprendizado de máquina para previsão da demanda de viagens de bicicletas da BIXI Montreal e análise do efeito da pandemia de COVID-19 na demanda de 2020*, elaborado por Thaís Lopes (https://github.com/thaisflopes) em novembro de 2021.\n",
        "\n",
        "Link para acessar o trabalho completo: https://repositorio.uniceub.br/jspui/handle/prefix/15956\n"
      ]
    },
    {
      "cell_type": "markdown",
      "metadata": {
        "id": "nSo1xklF9mZ4"
      },
      "source": [
        "## Baixando as bases de dados"
      ]
    },
    {
      "cell_type": "code",
      "execution_count": null,
      "metadata": {
        "id": "kvYjQmhk9mZ7",
        "outputId": "32fab1ea-079e-40aa-c70c-c729d03fd483"
      },
      "outputs": [
        {
          "name": "stdout",
          "output_type": "stream",
          "text": [
            "Requirement already satisfied: plotly in c:\\users\\dell\\anaconda3\\lib\\site-packages (5.3.1)\n",
            "Requirement already satisfied: tenacity>=6.2.0 in c:\\users\\dell\\anaconda3\\lib\\site-packages (from plotly) (8.0.1)\n",
            "Requirement already satisfied: six in c:\\users\\dell\\anaconda3\\lib\\site-packages (from plotly) (1.15.0)\n"
          ]
        },
        {
          "data": {
            "text/html": [
              "        <script type=\"text/javascript\">\n",
              "        window.PlotlyConfig = {MathJaxConfig: 'local'};\n",
              "        if (window.MathJax) {MathJax.Hub.Config({SVG: {font: \"STIX-Web\"}});}\n",
              "        if (typeof require !== 'undefined') {\n",
              "        require.undef(\"plotly\");\n",
              "        requirejs.config({\n",
              "            paths: {\n",
              "                'plotly': ['https://cdn.plot.ly/plotly-2.4.2.min']\n",
              "            }\n",
              "        });\n",
              "        require(['plotly'], function(Plotly) {\n",
              "            window._Plotly = Plotly;\n",
              "        });\n",
              "        }\n",
              "        </script>\n",
              "        "
            ]
          },
          "metadata": {},
          "output_type": "display_data"
        }
      ],
      "source": [
        "#Importando bibliotecas\n",
        "import numpy as np\n",
        "import pandas as pd\n",
        "import matplotlib.pyplot as plt\n",
        "from matplotlib import pyplot\n",
        "!pip install plotly\n",
        "import plotly.offline as py\n",
        "import plotly.graph_objs as go\n",
        "py.init_notebook_mode(connected=True)\n",
        "import seaborn as sns"
      ]
    },
    {
      "cell_type": "code",
      "execution_count": null,
      "metadata": {
        "id": "VvNylcuYN1Zg",
        "outputId": "cc21635f-b18e-4676-f97e-3ffe37abe943"
      },
      "outputs": [
        {
          "name": "stderr",
          "output_type": "stream",
          "text": [
            "C:\\Users\\gusta\\anaconda3\\lib\\site-packages\\IPython\\core\\interactiveshell.py:3165: DtypeWarning:\n",
            "\n",
            "Columns (1,3) have mixed types.Specify dtype option on import or set low_memory=False.\n",
            "\n"
          ]
        },
        {
          "data": {
            "text/plain": [
              "(5597845, 6)"
            ]
          },
          "execution_count": 2,
          "metadata": {},
          "output_type": "execute_result"
        }
      ],
      "source": [
        "#Carregando as bases de dados - 2019\n",
        "df_2019_4 = pd.read_csv(\"OD_2019-04.csv\")\n",
        "df_2019_5 = pd.read_csv(\"OD_2019-05.csv\")\n",
        "df_2019_6 = pd.read_csv(\"OD_2019-06.csv\")\n",
        "df_2019_7 = pd.read_csv(\"OD_2019-07.csv\")\n",
        "df_2019_8 = pd.read_csv(\"OD_2019-08.csv\")\n",
        "df_2019_9 = pd.read_csv(\"OD_2019-09.csv\")\n",
        "df_2019_10 = pd.read_csv(\"OD_2019-10.csv\")\n",
        "\n",
        "df_2019 = pd.concat([df_2019_4, df_2019_5, df_2019_6, df_2019_7, df_2019_8, df_2019_9, df_2019_10])\n",
        "df_2019.shape"
      ]
    },
    {
      "cell_type": "code",
      "execution_count": null,
      "metadata": {
        "id": "E3WpPigWN1Zi",
        "outputId": "b28e7c13-d476-42db-8dd9-98f3ef59286d"
      },
      "outputs": [
        {
          "data": {
            "text/plain": [
              "(3264741, 6)"
            ]
          },
          "execution_count": 3,
          "metadata": {},
          "output_type": "execute_result"
        }
      ],
      "source": [
        "#Carregando as bases de dados - 2020\n",
        "df_2020 = pd.read_csv(\"OD_2020.csv\")\n",
        "df_2020.shape"
      ]
    },
    {
      "cell_type": "code",
      "execution_count": null,
      "metadata": {
        "id": "b6OSKXg_N1Zj",
        "outputId": "a9754d2c-bf32-4f4f-97ff-a164fffc6139"
      },
      "outputs": [
        {
          "data": {
            "text/plain": [
              "(8862586, 6)"
            ]
          },
          "execution_count": 4,
          "metadata": {},
          "output_type": "execute_result"
        }
      ],
      "source": [
        "#Juntando as bases de dados\n",
        "dados = pd.concat([df_2019, df_2020])\n",
        "dados.shape"
      ]
    },
    {
      "cell_type": "markdown",
      "metadata": {
        "id": "N1QfIljJN1Zk"
      },
      "source": [
        "## Tratando os dados"
      ]
    },
    {
      "cell_type": "code",
      "execution_count": null,
      "metadata": {
        "id": "Mr-mCC4YN1Zl",
        "outputId": "ddb5e2a6-58b6-4236-d8e3-25937af4ab4a"
      },
      "outputs": [
        {
          "data": {
            "text/plain": [
              "start_date            datetime64[ns]\n",
              "start_station_code            object\n",
              "end_date                      object\n",
              "end_station_code              object\n",
              "duration_sec                   int64\n",
              "is_member                      int64\n",
              "dtype: object"
            ]
          },
          "execution_count": 5,
          "metadata": {},
          "output_type": "execute_result"
        }
      ],
      "source": [
        "#Tratando as colunas de datas\n",
        "dados['start_date'] = pd.to_datetime(dados['start_date'], format = '%Y/%m/%d %H:%M:%S')\n",
        "dados.dtypes"
      ]
    },
    {
      "cell_type": "code",
      "execution_count": null,
      "metadata": {
        "id": "X0vvy8LAN1Zm",
        "outputId": "8423180f-709e-4394-e0df-1c92db6da9e4"
      },
      "outputs": [
        {
          "data": {
            "text/html": [
              "<div>\n",
              "<style scoped>\n",
              "    .dataframe tbody tr th:only-of-type {\n",
              "        vertical-align: middle;\n",
              "    }\n",
              "\n",
              "    .dataframe tbody tr th {\n",
              "        vertical-align: top;\n",
              "    }\n",
              "\n",
              "    .dataframe thead th {\n",
              "        text-align: right;\n",
              "    }\n",
              "</style>\n",
              "<table border=\"1\" class=\"dataframe\">\n",
              "  <thead>\n",
              "    <tr style=\"text-align: right;\">\n",
              "      <th></th>\n",
              "      <th>start_station_code</th>\n",
              "      <th>end_date</th>\n",
              "      <th>end_station_code</th>\n",
              "      <th>duration_sec</th>\n",
              "      <th>is_member</th>\n",
              "    </tr>\n",
              "    <tr>\n",
              "      <th>start_date</th>\n",
              "      <th></th>\n",
              "      <th></th>\n",
              "      <th></th>\n",
              "      <th></th>\n",
              "      <th></th>\n",
              "    </tr>\n",
              "  </thead>\n",
              "  <tbody>\n",
              "    <tr>\n",
              "      <th>2019-04-14 07:55:22</th>\n",
              "      <td>6001</td>\n",
              "      <td>2019-04-14 08:07:16</td>\n",
              "      <td>6132</td>\n",
              "      <td>713</td>\n",
              "      <td>1</td>\n",
              "    </tr>\n",
              "    <tr>\n",
              "      <th>2019-04-14 07:59:31</th>\n",
              "      <td>6411</td>\n",
              "      <td>2019-04-14 08:09:18</td>\n",
              "      <td>6411</td>\n",
              "      <td>587</td>\n",
              "      <td>1</td>\n",
              "    </tr>\n",
              "    <tr>\n",
              "      <th>2019-04-14 07:59:55</th>\n",
              "      <td>6097</td>\n",
              "      <td>2019-04-14 08:12:11</td>\n",
              "      <td>6036</td>\n",
              "      <td>736</td>\n",
              "      <td>1</td>\n",
              "    </tr>\n",
              "    <tr>\n",
              "      <th>2019-04-14 07:59:57</th>\n",
              "      <td>6310</td>\n",
              "      <td>2019-04-14 08:27:58</td>\n",
              "      <td>6345</td>\n",
              "      <td>1680</td>\n",
              "      <td>1</td>\n",
              "    </tr>\n",
              "    <tr>\n",
              "      <th>2019-04-14 08:00:37</th>\n",
              "      <td>7029</td>\n",
              "      <td>2019-04-14 08:14:12</td>\n",
              "      <td>6250</td>\n",
              "      <td>814</td>\n",
              "      <td>0</td>\n",
              "    </tr>\n",
              "  </tbody>\n",
              "</table>\n",
              "</div>"
            ],
            "text/plain": [
              "                    start_station_code             end_date end_station_code  \\\n",
              "start_date                                                                     \n",
              "2019-04-14 07:55:22               6001  2019-04-14 08:07:16             6132   \n",
              "2019-04-14 07:59:31               6411  2019-04-14 08:09:18             6411   \n",
              "2019-04-14 07:59:55               6097  2019-04-14 08:12:11             6036   \n",
              "2019-04-14 07:59:57               6310  2019-04-14 08:27:58             6345   \n",
              "2019-04-14 08:00:37               7029  2019-04-14 08:14:12             6250   \n",
              "\n",
              "                     duration_sec  is_member  \n",
              "start_date                                    \n",
              "2019-04-14 07:55:22           713          1  \n",
              "2019-04-14 07:59:31           587          1  \n",
              "2019-04-14 07:59:55           736          1  \n",
              "2019-04-14 07:59:57          1680          1  \n",
              "2019-04-14 08:00:37           814          0  "
            ]
          },
          "execution_count": 6,
          "metadata": {},
          "output_type": "execute_result"
        }
      ],
      "source": [
        "#Indexando a coluna start_date\n",
        "dados.set_index('start_date', inplace=True)\n",
        "dados.head()"
      ]
    },
    {
      "cell_type": "code",
      "execution_count": null,
      "metadata": {
        "id": "4oOkcBXGN1Zn",
        "outputId": "da04d5a8-3f02-4846-aea7-14865e744ada"
      },
      "outputs": [
        {
          "data": {
            "text/html": [
              "<div>\n",
              "<style scoped>\n",
              "    .dataframe tbody tr th:only-of-type {\n",
              "        vertical-align: middle;\n",
              "    }\n",
              "\n",
              "    .dataframe tbody tr th {\n",
              "        vertical-align: top;\n",
              "    }\n",
              "\n",
              "    .dataframe thead th {\n",
              "        text-align: right;\n",
              "    }\n",
              "</style>\n",
              "<table border=\"1\" class=\"dataframe\">\n",
              "  <thead>\n",
              "    <tr style=\"text-align: right;\">\n",
              "      <th></th>\n",
              "      <th>start_station_code</th>\n",
              "      <th>end_date</th>\n",
              "      <th>end_station_code</th>\n",
              "      <th>duration_sec</th>\n",
              "      <th>is_member</th>\n",
              "      <th>semana</th>\n",
              "    </tr>\n",
              "    <tr>\n",
              "      <th>start_date</th>\n",
              "      <th></th>\n",
              "      <th></th>\n",
              "      <th></th>\n",
              "      <th></th>\n",
              "      <th></th>\n",
              "      <th></th>\n",
              "    </tr>\n",
              "  </thead>\n",
              "  <tbody>\n",
              "    <tr>\n",
              "      <th>2019-04-14 07:55:22</th>\n",
              "      <td>6001</td>\n",
              "      <td>2019-04-14 08:07:16</td>\n",
              "      <td>6132</td>\n",
              "      <td>713</td>\n",
              "      <td>1</td>\n",
              "      <td>2019-04-08</td>\n",
              "    </tr>\n",
              "    <tr>\n",
              "      <th>2019-04-14 07:59:31</th>\n",
              "      <td>6411</td>\n",
              "      <td>2019-04-14 08:09:18</td>\n",
              "      <td>6411</td>\n",
              "      <td>587</td>\n",
              "      <td>1</td>\n",
              "      <td>2019-04-08</td>\n",
              "    </tr>\n",
              "    <tr>\n",
              "      <th>2019-04-14 07:59:55</th>\n",
              "      <td>6097</td>\n",
              "      <td>2019-04-14 08:12:11</td>\n",
              "      <td>6036</td>\n",
              "      <td>736</td>\n",
              "      <td>1</td>\n",
              "      <td>2019-04-08</td>\n",
              "    </tr>\n",
              "    <tr>\n",
              "      <th>2019-04-14 07:59:57</th>\n",
              "      <td>6310</td>\n",
              "      <td>2019-04-14 08:27:58</td>\n",
              "      <td>6345</td>\n",
              "      <td>1680</td>\n",
              "      <td>1</td>\n",
              "      <td>2019-04-08</td>\n",
              "    </tr>\n",
              "    <tr>\n",
              "      <th>2019-04-14 08:00:37</th>\n",
              "      <td>7029</td>\n",
              "      <td>2019-04-14 08:14:12</td>\n",
              "      <td>6250</td>\n",
              "      <td>814</td>\n",
              "      <td>0</td>\n",
              "      <td>2019-04-08</td>\n",
              "    </tr>\n",
              "  </tbody>\n",
              "</table>\n",
              "</div>"
            ],
            "text/plain": [
              "                    start_station_code             end_date end_station_code  \\\n",
              "start_date                                                                     \n",
              "2019-04-14 07:55:22               6001  2019-04-14 08:07:16             6132   \n",
              "2019-04-14 07:59:31               6411  2019-04-14 08:09:18             6411   \n",
              "2019-04-14 07:59:55               6097  2019-04-14 08:12:11             6036   \n",
              "2019-04-14 07:59:57               6310  2019-04-14 08:27:58             6345   \n",
              "2019-04-14 08:00:37               7029  2019-04-14 08:14:12             6250   \n",
              "\n",
              "                     duration_sec  is_member     semana  \n",
              "start_date                                               \n",
              "2019-04-14 07:55:22           713          1 2019-04-08  \n",
              "2019-04-14 07:59:31           587          1 2019-04-08  \n",
              "2019-04-14 07:59:55           736          1 2019-04-08  \n",
              "2019-04-14 07:59:57          1680          1 2019-04-08  \n",
              "2019-04-14 08:00:37           814          0 2019-04-08  "
            ]
          },
          "execution_count": 7,
          "metadata": {},
          "output_type": "execute_result"
        }
      ],
      "source": [
        "#Identificando as viagens da mesma semana\n",
        "dados['semana'] = dados.index.to_period('W').start_time\n",
        "dados.head()"
      ]
    },
    {
      "cell_type": "code",
      "execution_count": null,
      "metadata": {
        "id": "BvHZj88IN1Zp",
        "outputId": "b35d4c48-63c0-4eed-f7a7-a13bbd1925a9"
      },
      "outputs": [
        {
          "data": {
            "text/html": [
              "<div>\n",
              "<style scoped>\n",
              "    .dataframe tbody tr th:only-of-type {\n",
              "        vertical-align: middle;\n",
              "    }\n",
              "\n",
              "    .dataframe tbody tr th {\n",
              "        vertical-align: top;\n",
              "    }\n",
              "\n",
              "    .dataframe thead th {\n",
              "        text-align: right;\n",
              "    }\n",
              "</style>\n",
              "<table border=\"1\" class=\"dataframe\">\n",
              "  <thead>\n",
              "    <tr style=\"text-align: right;\">\n",
              "      <th></th>\n",
              "      <th>start_station_code</th>\n",
              "      <th>end_date</th>\n",
              "      <th>end_station_code</th>\n",
              "      <th>duration_sec</th>\n",
              "      <th>is_member</th>\n",
              "      <th>semana</th>\n",
              "      <th>ano</th>\n",
              "    </tr>\n",
              "    <tr>\n",
              "      <th>start_date</th>\n",
              "      <th></th>\n",
              "      <th></th>\n",
              "      <th></th>\n",
              "      <th></th>\n",
              "      <th></th>\n",
              "      <th></th>\n",
              "      <th></th>\n",
              "    </tr>\n",
              "  </thead>\n",
              "  <tbody>\n",
              "    <tr>\n",
              "      <th>2019-04-14 07:55:22</th>\n",
              "      <td>6001</td>\n",
              "      <td>2019-04-14 08:07:16</td>\n",
              "      <td>6132</td>\n",
              "      <td>713</td>\n",
              "      <td>1</td>\n",
              "      <td>2019-04-08</td>\n",
              "      <td>2019</td>\n",
              "    </tr>\n",
              "    <tr>\n",
              "      <th>2019-04-14 07:59:31</th>\n",
              "      <td>6411</td>\n",
              "      <td>2019-04-14 08:09:18</td>\n",
              "      <td>6411</td>\n",
              "      <td>587</td>\n",
              "      <td>1</td>\n",
              "      <td>2019-04-08</td>\n",
              "      <td>2019</td>\n",
              "    </tr>\n",
              "    <tr>\n",
              "      <th>2019-04-14 07:59:55</th>\n",
              "      <td>6097</td>\n",
              "      <td>2019-04-14 08:12:11</td>\n",
              "      <td>6036</td>\n",
              "      <td>736</td>\n",
              "      <td>1</td>\n",
              "      <td>2019-04-08</td>\n",
              "      <td>2019</td>\n",
              "    </tr>\n",
              "    <tr>\n",
              "      <th>2019-04-14 07:59:57</th>\n",
              "      <td>6310</td>\n",
              "      <td>2019-04-14 08:27:58</td>\n",
              "      <td>6345</td>\n",
              "      <td>1680</td>\n",
              "      <td>1</td>\n",
              "      <td>2019-04-08</td>\n",
              "      <td>2019</td>\n",
              "    </tr>\n",
              "    <tr>\n",
              "      <th>2019-04-14 08:00:37</th>\n",
              "      <td>7029</td>\n",
              "      <td>2019-04-14 08:14:12</td>\n",
              "      <td>6250</td>\n",
              "      <td>814</td>\n",
              "      <td>0</td>\n",
              "      <td>2019-04-08</td>\n",
              "      <td>2019</td>\n",
              "    </tr>\n",
              "  </tbody>\n",
              "</table>\n",
              "</div>"
            ],
            "text/plain": [
              "                    start_station_code             end_date end_station_code  \\\n",
              "start_date                                                                     \n",
              "2019-04-14 07:55:22               6001  2019-04-14 08:07:16             6132   \n",
              "2019-04-14 07:59:31               6411  2019-04-14 08:09:18             6411   \n",
              "2019-04-14 07:59:55               6097  2019-04-14 08:12:11             6036   \n",
              "2019-04-14 07:59:57               6310  2019-04-14 08:27:58             6345   \n",
              "2019-04-14 08:00:37               7029  2019-04-14 08:14:12             6250   \n",
              "\n",
              "                     duration_sec  is_member     semana   ano  \n",
              "start_date                                                     \n",
              "2019-04-14 07:55:22           713          1 2019-04-08  2019  \n",
              "2019-04-14 07:59:31           587          1 2019-04-08  2019  \n",
              "2019-04-14 07:59:55           736          1 2019-04-08  2019  \n",
              "2019-04-14 07:59:57          1680          1 2019-04-08  2019  \n",
              "2019-04-14 08:00:37           814          0 2019-04-08  2019  "
            ]
          },
          "execution_count": 8,
          "metadata": {},
          "output_type": "execute_result"
        }
      ],
      "source": [
        "#Filtrando só o ano da coluna semana\n",
        "dados['ano']=dados['semana'].dt.year\n",
        "dados.head()"
      ]
    },
    {
      "cell_type": "code",
      "execution_count": null,
      "metadata": {
        "id": "v7ALkpgJN1Zq",
        "outputId": "a97d5ed5-2552-47c2-db69-2e0d8a49122d"
      },
      "outputs": [
        {
          "data": {
            "text/html": [
              "<div>\n",
              "<style scoped>\n",
              "    .dataframe tbody tr th:only-of-type {\n",
              "        vertical-align: middle;\n",
              "    }\n",
              "\n",
              "    .dataframe tbody tr th {\n",
              "        vertical-align: top;\n",
              "    }\n",
              "\n",
              "    .dataframe thead th {\n",
              "        text-align: right;\n",
              "    }\n",
              "</style>\n",
              "<table border=\"1\" class=\"dataframe\">\n",
              "  <thead>\n",
              "    <tr style=\"text-align: right;\">\n",
              "      <th></th>\n",
              "      <th>start_station_code</th>\n",
              "      <th>end_date</th>\n",
              "      <th>end_station_code</th>\n",
              "      <th>duration_sec</th>\n",
              "      <th>is_member</th>\n",
              "      <th>semana</th>\n",
              "      <th>ano</th>\n",
              "      <th>mes</th>\n",
              "    </tr>\n",
              "    <tr>\n",
              "      <th>start_date</th>\n",
              "      <th></th>\n",
              "      <th></th>\n",
              "      <th></th>\n",
              "      <th></th>\n",
              "      <th></th>\n",
              "      <th></th>\n",
              "      <th></th>\n",
              "      <th></th>\n",
              "    </tr>\n",
              "  </thead>\n",
              "  <tbody>\n",
              "    <tr>\n",
              "      <th>2019-04-14 07:55:22</th>\n",
              "      <td>6001</td>\n",
              "      <td>2019-04-14 08:07:16</td>\n",
              "      <td>6132</td>\n",
              "      <td>713</td>\n",
              "      <td>1</td>\n",
              "      <td>2019-04-08</td>\n",
              "      <td>2019</td>\n",
              "      <td>4</td>\n",
              "    </tr>\n",
              "    <tr>\n",
              "      <th>2019-04-14 07:59:31</th>\n",
              "      <td>6411</td>\n",
              "      <td>2019-04-14 08:09:18</td>\n",
              "      <td>6411</td>\n",
              "      <td>587</td>\n",
              "      <td>1</td>\n",
              "      <td>2019-04-08</td>\n",
              "      <td>2019</td>\n",
              "      <td>4</td>\n",
              "    </tr>\n",
              "    <tr>\n",
              "      <th>2019-04-14 07:59:55</th>\n",
              "      <td>6097</td>\n",
              "      <td>2019-04-14 08:12:11</td>\n",
              "      <td>6036</td>\n",
              "      <td>736</td>\n",
              "      <td>1</td>\n",
              "      <td>2019-04-08</td>\n",
              "      <td>2019</td>\n",
              "      <td>4</td>\n",
              "    </tr>\n",
              "    <tr>\n",
              "      <th>2019-04-14 07:59:57</th>\n",
              "      <td>6310</td>\n",
              "      <td>2019-04-14 08:27:58</td>\n",
              "      <td>6345</td>\n",
              "      <td>1680</td>\n",
              "      <td>1</td>\n",
              "      <td>2019-04-08</td>\n",
              "      <td>2019</td>\n",
              "      <td>4</td>\n",
              "    </tr>\n",
              "    <tr>\n",
              "      <th>2019-04-14 08:00:37</th>\n",
              "      <td>7029</td>\n",
              "      <td>2019-04-14 08:14:12</td>\n",
              "      <td>6250</td>\n",
              "      <td>814</td>\n",
              "      <td>0</td>\n",
              "      <td>2019-04-08</td>\n",
              "      <td>2019</td>\n",
              "      <td>4</td>\n",
              "    </tr>\n",
              "  </tbody>\n",
              "</table>\n",
              "</div>"
            ],
            "text/plain": [
              "                    start_station_code             end_date end_station_code  \\\n",
              "start_date                                                                     \n",
              "2019-04-14 07:55:22               6001  2019-04-14 08:07:16             6132   \n",
              "2019-04-14 07:59:31               6411  2019-04-14 08:09:18             6411   \n",
              "2019-04-14 07:59:55               6097  2019-04-14 08:12:11             6036   \n",
              "2019-04-14 07:59:57               6310  2019-04-14 08:27:58             6345   \n",
              "2019-04-14 08:00:37               7029  2019-04-14 08:14:12             6250   \n",
              "\n",
              "                     duration_sec  is_member     semana   ano  mes  \n",
              "start_date                                                          \n",
              "2019-04-14 07:55:22           713          1 2019-04-08  2019    4  \n",
              "2019-04-14 07:59:31           587          1 2019-04-08  2019    4  \n",
              "2019-04-14 07:59:55           736          1 2019-04-08  2019    4  \n",
              "2019-04-14 07:59:57          1680          1 2019-04-08  2019    4  \n",
              "2019-04-14 08:00:37           814          0 2019-04-08  2019    4  "
            ]
          },
          "execution_count": 9,
          "metadata": {},
          "output_type": "execute_result"
        }
      ],
      "source": [
        "#Filtrando só o mês da coluna semana\n",
        "dados['mes']=dados['semana'].dt.month\n",
        "dados.head()"
      ]
    },
    {
      "cell_type": "code",
      "execution_count": null,
      "metadata": {
        "id": "VSMSa3nyN1Zr",
        "outputId": "191b40d4-0ee3-4b97-c97c-ca929664076b"
      },
      "outputs": [
        {
          "data": {
            "text/plain": [
              "start_station_code                  object\n",
              "end_date                            object\n",
              "end_station_code                    object\n",
              "duration_sec                         int64\n",
              "is_member                            int64\n",
              "semana                      datetime64[ns]\n",
              "ano                                  int64\n",
              "mes                                  int64\n",
              "semana,inicio,fim,membro            object\n",
              "dtype: object"
            ]
          },
          "execution_count": 10,
          "metadata": {},
          "output_type": "execute_result"
        }
      ],
      "source": [
        "#Estabelecendo as combinações de 'semana,inicio,fim,membro'\n",
        "dados['semana,inicio,fim,membro'] = dados.apply(lambda x:'%s,%s,%s,%s' % (x['semana'], x['start_station_code'],x['end_station_code'],x['is_member']),axis=1)\n",
        "dados['semana,inicio,fim,membro'] = dados['semana,inicio,fim,membro'].astype(object)\n",
        "dados.dtypes"
      ]
    },
    {
      "cell_type": "code",
      "execution_count": null,
      "metadata": {
        "id": "5PCrHNubN1Zs",
        "outputId": "11690467-3c17-4906-e06b-0a79092db002"
      },
      "outputs": [
        {
          "data": {
            "text/html": [
              "<div>\n",
              "<style scoped>\n",
              "    .dataframe tbody tr th:only-of-type {\n",
              "        vertical-align: middle;\n",
              "    }\n",
              "\n",
              "    .dataframe tbody tr th {\n",
              "        vertical-align: top;\n",
              "    }\n",
              "\n",
              "    .dataframe thead th {\n",
              "        text-align: right;\n",
              "    }\n",
              "</style>\n",
              "<table border=\"1\" class=\"dataframe\">\n",
              "  <thead>\n",
              "    <tr style=\"text-align: right;\">\n",
              "      <th></th>\n",
              "      <th>start_station_code</th>\n",
              "      <th>end_date</th>\n",
              "      <th>end_station_code</th>\n",
              "      <th>duration_sec</th>\n",
              "      <th>is_member</th>\n",
              "      <th>semana</th>\n",
              "      <th>ano</th>\n",
              "      <th>mes</th>\n",
              "      <th>semana,inicio,fim,membro</th>\n",
              "      <th>qtd_viagens</th>\n",
              "    </tr>\n",
              "    <tr>\n",
              "      <th>start_date</th>\n",
              "      <th></th>\n",
              "      <th></th>\n",
              "      <th></th>\n",
              "      <th></th>\n",
              "      <th></th>\n",
              "      <th></th>\n",
              "      <th></th>\n",
              "      <th></th>\n",
              "      <th></th>\n",
              "      <th></th>\n",
              "    </tr>\n",
              "  </thead>\n",
              "  <tbody>\n",
              "    <tr>\n",
              "      <th>2019-04-14 07:55:22</th>\n",
              "      <td>6001</td>\n",
              "      <td>2019-04-14 08:07:16</td>\n",
              "      <td>6132</td>\n",
              "      <td>713</td>\n",
              "      <td>1</td>\n",
              "      <td>2019-04-08</td>\n",
              "      <td>2019</td>\n",
              "      <td>4</td>\n",
              "      <td>2019-04-08 00:00:00,6001,6132,1</td>\n",
              "      <td>1</td>\n",
              "    </tr>\n",
              "    <tr>\n",
              "      <th>2019-04-14 07:59:31</th>\n",
              "      <td>6411</td>\n",
              "      <td>2019-04-14 08:09:18</td>\n",
              "      <td>6411</td>\n",
              "      <td>587</td>\n",
              "      <td>1</td>\n",
              "      <td>2019-04-08</td>\n",
              "      <td>2019</td>\n",
              "      <td>4</td>\n",
              "      <td>2019-04-08 00:00:00,6411,6411,1</td>\n",
              "      <td>1</td>\n",
              "    </tr>\n",
              "    <tr>\n",
              "      <th>2019-04-14 07:59:55</th>\n",
              "      <td>6097</td>\n",
              "      <td>2019-04-14 08:12:11</td>\n",
              "      <td>6036</td>\n",
              "      <td>736</td>\n",
              "      <td>1</td>\n",
              "      <td>2019-04-08</td>\n",
              "      <td>2019</td>\n",
              "      <td>4</td>\n",
              "      <td>2019-04-08 00:00:00,6097,6036,1</td>\n",
              "      <td>1</td>\n",
              "    </tr>\n",
              "    <tr>\n",
              "      <th>2019-04-14 07:59:57</th>\n",
              "      <td>6310</td>\n",
              "      <td>2019-04-14 08:27:58</td>\n",
              "      <td>6345</td>\n",
              "      <td>1680</td>\n",
              "      <td>1</td>\n",
              "      <td>2019-04-08</td>\n",
              "      <td>2019</td>\n",
              "      <td>4</td>\n",
              "      <td>2019-04-08 00:00:00,6310,6345,1</td>\n",
              "      <td>1</td>\n",
              "    </tr>\n",
              "    <tr>\n",
              "      <th>2019-04-14 08:00:37</th>\n",
              "      <td>7029</td>\n",
              "      <td>2019-04-14 08:14:12</td>\n",
              "      <td>6250</td>\n",
              "      <td>814</td>\n",
              "      <td>0</td>\n",
              "      <td>2019-04-08</td>\n",
              "      <td>2019</td>\n",
              "      <td>4</td>\n",
              "      <td>2019-04-08 00:00:00,7029,6250,0</td>\n",
              "      <td>1</td>\n",
              "    </tr>\n",
              "  </tbody>\n",
              "</table>\n",
              "</div>"
            ],
            "text/plain": [
              "                    start_station_code             end_date end_station_code  \\\n",
              "start_date                                                                     \n",
              "2019-04-14 07:55:22               6001  2019-04-14 08:07:16             6132   \n",
              "2019-04-14 07:59:31               6411  2019-04-14 08:09:18             6411   \n",
              "2019-04-14 07:59:55               6097  2019-04-14 08:12:11             6036   \n",
              "2019-04-14 07:59:57               6310  2019-04-14 08:27:58             6345   \n",
              "2019-04-14 08:00:37               7029  2019-04-14 08:14:12             6250   \n",
              "\n",
              "                     duration_sec  is_member     semana   ano  mes  \\\n",
              "start_date                                                           \n",
              "2019-04-14 07:55:22           713          1 2019-04-08  2019    4   \n",
              "2019-04-14 07:59:31           587          1 2019-04-08  2019    4   \n",
              "2019-04-14 07:59:55           736          1 2019-04-08  2019    4   \n",
              "2019-04-14 07:59:57          1680          1 2019-04-08  2019    4   \n",
              "2019-04-14 08:00:37           814          0 2019-04-08  2019    4   \n",
              "\n",
              "                            semana,inicio,fim,membro  qtd_viagens  \n",
              "start_date                                                         \n",
              "2019-04-14 07:55:22  2019-04-08 00:00:00,6001,6132,1            1  \n",
              "2019-04-14 07:59:31  2019-04-08 00:00:00,6411,6411,1            1  \n",
              "2019-04-14 07:59:55  2019-04-08 00:00:00,6097,6036,1            1  \n",
              "2019-04-14 07:59:57  2019-04-08 00:00:00,6310,6345,1            1  \n",
              "2019-04-14 08:00:37  2019-04-08 00:00:00,7029,6250,0            1  "
            ]
          },
          "execution_count": 11,
          "metadata": {},
          "output_type": "execute_result"
        }
      ],
      "source": [
        "#Calculando a quantidade total de viagens por 'semana,inicio,fim,membro'\n",
        "dados['qtd_viagens'] = dados.groupby('semana,inicio,fim,membro')['semana,inicio,fim,membro'].transform('count')\n",
        "dados.head()"
      ]
    },
    {
      "cell_type": "code",
      "execution_count": null,
      "metadata": {
        "id": "MVvA-S_0N1Zu",
        "outputId": "e054d388-12df-471f-d12a-7d6a84d727e2"
      },
      "outputs": [
        {
          "data": {
            "text/html": [
              "<div>\n",
              "<style scoped>\n",
              "    .dataframe tbody tr th:only-of-type {\n",
              "        vertical-align: middle;\n",
              "    }\n",
              "\n",
              "    .dataframe tbody tr th {\n",
              "        vertical-align: top;\n",
              "    }\n",
              "\n",
              "    .dataframe thead th {\n",
              "        text-align: right;\n",
              "    }\n",
              "</style>\n",
              "<table border=\"1\" class=\"dataframe\">\n",
              "  <thead>\n",
              "    <tr style=\"text-align: right;\">\n",
              "      <th></th>\n",
              "      <th>start_station_code</th>\n",
              "      <th>end_date</th>\n",
              "      <th>end_station_code</th>\n",
              "      <th>duration_sec</th>\n",
              "      <th>is_member</th>\n",
              "      <th>semana</th>\n",
              "      <th>ano</th>\n",
              "      <th>mes</th>\n",
              "      <th>semana,inicio,fim,membro</th>\n",
              "      <th>qtd_viagens</th>\n",
              "    </tr>\n",
              "  </thead>\n",
              "  <tbody>\n",
              "    <tr>\n",
              "      <th>0</th>\n",
              "      <td>6001</td>\n",
              "      <td>2019-04-14 08:07:16</td>\n",
              "      <td>6132</td>\n",
              "      <td>713</td>\n",
              "      <td>1</td>\n",
              "      <td>2019-04-08</td>\n",
              "      <td>2019</td>\n",
              "      <td>4</td>\n",
              "      <td>2019-04-08 00:00:00,6001,6132,1</td>\n",
              "      <td>1</td>\n",
              "    </tr>\n",
              "    <tr>\n",
              "      <th>1</th>\n",
              "      <td>6411</td>\n",
              "      <td>2019-04-14 08:09:18</td>\n",
              "      <td>6411</td>\n",
              "      <td>587</td>\n",
              "      <td>1</td>\n",
              "      <td>2019-04-08</td>\n",
              "      <td>2019</td>\n",
              "      <td>4</td>\n",
              "      <td>2019-04-08 00:00:00,6411,6411,1</td>\n",
              "      <td>1</td>\n",
              "    </tr>\n",
              "    <tr>\n",
              "      <th>2</th>\n",
              "      <td>6097</td>\n",
              "      <td>2019-04-14 08:12:11</td>\n",
              "      <td>6036</td>\n",
              "      <td>736</td>\n",
              "      <td>1</td>\n",
              "      <td>2019-04-08</td>\n",
              "      <td>2019</td>\n",
              "      <td>4</td>\n",
              "      <td>2019-04-08 00:00:00,6097,6036,1</td>\n",
              "      <td>1</td>\n",
              "    </tr>\n",
              "    <tr>\n",
              "      <th>3</th>\n",
              "      <td>6310</td>\n",
              "      <td>2019-04-14 08:27:58</td>\n",
              "      <td>6345</td>\n",
              "      <td>1680</td>\n",
              "      <td>1</td>\n",
              "      <td>2019-04-08</td>\n",
              "      <td>2019</td>\n",
              "      <td>4</td>\n",
              "      <td>2019-04-08 00:00:00,6310,6345,1</td>\n",
              "      <td>1</td>\n",
              "    </tr>\n",
              "    <tr>\n",
              "      <th>4</th>\n",
              "      <td>7029</td>\n",
              "      <td>2019-04-14 08:14:12</td>\n",
              "      <td>6250</td>\n",
              "      <td>814</td>\n",
              "      <td>0</td>\n",
              "      <td>2019-04-08</td>\n",
              "      <td>2019</td>\n",
              "      <td>4</td>\n",
              "      <td>2019-04-08 00:00:00,7029,6250,0</td>\n",
              "      <td>1</td>\n",
              "    </tr>\n",
              "  </tbody>\n",
              "</table>\n",
              "</div>"
            ],
            "text/plain": [
              "  start_station_code             end_date end_station_code  duration_sec  \\\n",
              "0               6001  2019-04-14 08:07:16             6132           713   \n",
              "1               6411  2019-04-14 08:09:18             6411           587   \n",
              "2               6097  2019-04-14 08:12:11             6036           736   \n",
              "3               6310  2019-04-14 08:27:58             6345          1680   \n",
              "4               7029  2019-04-14 08:14:12             6250           814   \n",
              "\n",
              "   is_member     semana   ano  mes         semana,inicio,fim,membro  \\\n",
              "0          1 2019-04-08  2019    4  2019-04-08 00:00:00,6001,6132,1   \n",
              "1          1 2019-04-08  2019    4  2019-04-08 00:00:00,6411,6411,1   \n",
              "2          1 2019-04-08  2019    4  2019-04-08 00:00:00,6097,6036,1   \n",
              "3          1 2019-04-08  2019    4  2019-04-08 00:00:00,6310,6345,1   \n",
              "4          0 2019-04-08  2019    4  2019-04-08 00:00:00,7029,6250,0   \n",
              "\n",
              "   qtd_viagens  \n",
              "0            1  \n",
              "1            1  \n",
              "2            1  \n",
              "3            1  \n",
              "4            1  "
            ]
          },
          "execution_count": 12,
          "metadata": {},
          "output_type": "execute_result"
        }
      ],
      "source": [
        "#Retirando start_date do index\n",
        "dados.reset_index(drop=True, inplace=True)\n",
        "dados.head()"
      ]
    },
    {
      "cell_type": "code",
      "execution_count": null,
      "metadata": {
        "id": "DzCVIfaZN1Zu",
        "outputId": "3fca6633-1ad3-4034-be45-cc8032f70276"
      },
      "outputs": [
        {
          "data": {
            "text/html": [
              "<div>\n",
              "<style scoped>\n",
              "    .dataframe tbody tr th:only-of-type {\n",
              "        vertical-align: middle;\n",
              "    }\n",
              "\n",
              "    .dataframe tbody tr th {\n",
              "        vertical-align: top;\n",
              "    }\n",
              "\n",
              "    .dataframe thead th {\n",
              "        text-align: right;\n",
              "    }\n",
              "</style>\n",
              "<table border=\"1\" class=\"dataframe\">\n",
              "  <thead>\n",
              "    <tr style=\"text-align: right;\">\n",
              "      <th></th>\n",
              "      <th>start_station_code</th>\n",
              "      <th>end_station_code</th>\n",
              "      <th>is_member</th>\n",
              "      <th>semana</th>\n",
              "      <th>ano</th>\n",
              "      <th>mes</th>\n",
              "      <th>semana,inicio,fim,membro</th>\n",
              "      <th>qtd_viagens</th>\n",
              "    </tr>\n",
              "  </thead>\n",
              "  <tbody>\n",
              "    <tr>\n",
              "      <th>0</th>\n",
              "      <td>6001</td>\n",
              "      <td>6132</td>\n",
              "      <td>1</td>\n",
              "      <td>2019-04-08</td>\n",
              "      <td>2019</td>\n",
              "      <td>4</td>\n",
              "      <td>2019-04-08 00:00:00,6001,6132,1</td>\n",
              "      <td>1</td>\n",
              "    </tr>\n",
              "    <tr>\n",
              "      <th>1</th>\n",
              "      <td>6411</td>\n",
              "      <td>6411</td>\n",
              "      <td>1</td>\n",
              "      <td>2019-04-08</td>\n",
              "      <td>2019</td>\n",
              "      <td>4</td>\n",
              "      <td>2019-04-08 00:00:00,6411,6411,1</td>\n",
              "      <td>1</td>\n",
              "    </tr>\n",
              "    <tr>\n",
              "      <th>2</th>\n",
              "      <td>6097</td>\n",
              "      <td>6036</td>\n",
              "      <td>1</td>\n",
              "      <td>2019-04-08</td>\n",
              "      <td>2019</td>\n",
              "      <td>4</td>\n",
              "      <td>2019-04-08 00:00:00,6097,6036,1</td>\n",
              "      <td>1</td>\n",
              "    </tr>\n",
              "    <tr>\n",
              "      <th>3</th>\n",
              "      <td>6310</td>\n",
              "      <td>6345</td>\n",
              "      <td>1</td>\n",
              "      <td>2019-04-08</td>\n",
              "      <td>2019</td>\n",
              "      <td>4</td>\n",
              "      <td>2019-04-08 00:00:00,6310,6345,1</td>\n",
              "      <td>1</td>\n",
              "    </tr>\n",
              "    <tr>\n",
              "      <th>4</th>\n",
              "      <td>7029</td>\n",
              "      <td>6250</td>\n",
              "      <td>0</td>\n",
              "      <td>2019-04-08</td>\n",
              "      <td>2019</td>\n",
              "      <td>4</td>\n",
              "      <td>2019-04-08 00:00:00,7029,6250,0</td>\n",
              "      <td>1</td>\n",
              "    </tr>\n",
              "  </tbody>\n",
              "</table>\n",
              "</div>"
            ],
            "text/plain": [
              "  start_station_code end_station_code  is_member     semana   ano  mes  \\\n",
              "0               6001             6132          1 2019-04-08  2019    4   \n",
              "1               6411             6411          1 2019-04-08  2019    4   \n",
              "2               6097             6036          1 2019-04-08  2019    4   \n",
              "3               6310             6345          1 2019-04-08  2019    4   \n",
              "4               7029             6250          0 2019-04-08  2019    4   \n",
              "\n",
              "          semana,inicio,fim,membro  qtd_viagens  \n",
              "0  2019-04-08 00:00:00,6001,6132,1            1  \n",
              "1  2019-04-08 00:00:00,6411,6411,1            1  \n",
              "2  2019-04-08 00:00:00,6097,6036,1            1  \n",
              "3  2019-04-08 00:00:00,6310,6345,1            1  \n",
              "4  2019-04-08 00:00:00,7029,6250,0            1  "
            ]
          },
          "execution_count": 13,
          "metadata": {},
          "output_type": "execute_result"
        }
      ],
      "source": [
        "#Retirando colunas que não serão usadas\n",
        "dados = dados.drop(labels=['end_date', 'duration_sec'], axis = 1)\n",
        "dados.head()"
      ]
    },
    {
      "cell_type": "code",
      "execution_count": null,
      "metadata": {
        "id": "HX08sW_VN1Zw",
        "outputId": "83e631f0-98fb-4846-d0b1-8d29e49407ff"
      },
      "outputs": [
        {
          "data": {
            "text/html": [
              "<div>\n",
              "<style scoped>\n",
              "    .dataframe tbody tr th:only-of-type {\n",
              "        vertical-align: middle;\n",
              "    }\n",
              "\n",
              "    .dataframe tbody tr th {\n",
              "        vertical-align: top;\n",
              "    }\n",
              "\n",
              "    .dataframe thead th {\n",
              "        text-align: right;\n",
              "    }\n",
              "</style>\n",
              "<table border=\"1\" class=\"dataframe\">\n",
              "  <thead>\n",
              "    <tr style=\"text-align: right;\">\n",
              "      <th></th>\n",
              "      <th>start_station_code</th>\n",
              "      <th>end_station_code</th>\n",
              "      <th>is_member</th>\n",
              "      <th>semana</th>\n",
              "      <th>ano</th>\n",
              "      <th>mes</th>\n",
              "      <th>semana,inicio,fim,membro</th>\n",
              "      <th>qtd_viagens</th>\n",
              "    </tr>\n",
              "  </thead>\n",
              "  <tbody>\n",
              "    <tr>\n",
              "      <th>0</th>\n",
              "      <td>6001</td>\n",
              "      <td>6132</td>\n",
              "      <td>1</td>\n",
              "      <td>2019-04-08</td>\n",
              "      <td>2019</td>\n",
              "      <td>4</td>\n",
              "      <td>2019-04-08 00:00:00,6001,6132,1</td>\n",
              "      <td>1</td>\n",
              "    </tr>\n",
              "    <tr>\n",
              "      <th>1</th>\n",
              "      <td>6411</td>\n",
              "      <td>6411</td>\n",
              "      <td>1</td>\n",
              "      <td>2019-04-08</td>\n",
              "      <td>2019</td>\n",
              "      <td>4</td>\n",
              "      <td>2019-04-08 00:00:00,6411,6411,1</td>\n",
              "      <td>1</td>\n",
              "    </tr>\n",
              "    <tr>\n",
              "      <th>2</th>\n",
              "      <td>6097</td>\n",
              "      <td>6036</td>\n",
              "      <td>1</td>\n",
              "      <td>2019-04-08</td>\n",
              "      <td>2019</td>\n",
              "      <td>4</td>\n",
              "      <td>2019-04-08 00:00:00,6097,6036,1</td>\n",
              "      <td>1</td>\n",
              "    </tr>\n",
              "    <tr>\n",
              "      <th>3</th>\n",
              "      <td>6310</td>\n",
              "      <td>6345</td>\n",
              "      <td>1</td>\n",
              "      <td>2019-04-08</td>\n",
              "      <td>2019</td>\n",
              "      <td>4</td>\n",
              "      <td>2019-04-08 00:00:00,6310,6345,1</td>\n",
              "      <td>1</td>\n",
              "    </tr>\n",
              "    <tr>\n",
              "      <th>4</th>\n",
              "      <td>7029</td>\n",
              "      <td>6250</td>\n",
              "      <td>0</td>\n",
              "      <td>2019-04-08</td>\n",
              "      <td>2019</td>\n",
              "      <td>4</td>\n",
              "      <td>2019-04-08 00:00:00,7029,6250,0</td>\n",
              "      <td>1</td>\n",
              "    </tr>\n",
              "    <tr>\n",
              "      <th>...</th>\n",
              "      <td>...</td>\n",
              "      <td>...</td>\n",
              "      <td>...</td>\n",
              "      <td>...</td>\n",
              "      <td>...</td>\n",
              "      <td>...</td>\n",
              "      <td>...</td>\n",
              "      <td>...</td>\n",
              "    </tr>\n",
              "    <tr>\n",
              "      <th>8862581</th>\n",
              "      <td>7073</td>\n",
              "      <td>6209</td>\n",
              "      <td>1</td>\n",
              "      <td>2020-11-16</td>\n",
              "      <td>2020</td>\n",
              "      <td>11</td>\n",
              "      <td>2020-11-16 00:00:00,7073,6209,1</td>\n",
              "      <td>1</td>\n",
              "    </tr>\n",
              "    <tr>\n",
              "      <th>8862582</th>\n",
              "      <td>6154</td>\n",
              "      <td>7035</td>\n",
              "      <td>1</td>\n",
              "      <td>2020-11-16</td>\n",
              "      <td>2020</td>\n",
              "      <td>11</td>\n",
              "      <td>2020-11-16 00:00:00,6154,7035,1</td>\n",
              "      <td>1</td>\n",
              "    </tr>\n",
              "    <tr>\n",
              "      <th>8862583</th>\n",
              "      <td>6108</td>\n",
              "      <td>6017</td>\n",
              "      <td>1</td>\n",
              "      <td>2020-11-16</td>\n",
              "      <td>2020</td>\n",
              "      <td>11</td>\n",
              "      <td>2020-11-16 00:00:00,6108,6017,1</td>\n",
              "      <td>1</td>\n",
              "    </tr>\n",
              "    <tr>\n",
              "      <th>8862584</th>\n",
              "      <td>6104</td>\n",
              "      <td>6119</td>\n",
              "      <td>1</td>\n",
              "      <td>2020-11-16</td>\n",
              "      <td>2020</td>\n",
              "      <td>11</td>\n",
              "      <td>2020-11-16 00:00:00,6104,6119,1</td>\n",
              "      <td>1</td>\n",
              "    </tr>\n",
              "    <tr>\n",
              "      <th>8862585</th>\n",
              "      <td>6148</td>\n",
              "      <td>6370</td>\n",
              "      <td>1</td>\n",
              "      <td>2020-11-16</td>\n",
              "      <td>2020</td>\n",
              "      <td>11</td>\n",
              "      <td>2020-11-16 00:00:00,6148,6370,1</td>\n",
              "      <td>1</td>\n",
              "    </tr>\n",
              "  </tbody>\n",
              "</table>\n",
              "<p>4035255 rows × 8 columns</p>\n",
              "</div>"
            ],
            "text/plain": [
              "        start_station_code end_station_code  is_member     semana   ano  mes  \\\n",
              "0                     6001             6132          1 2019-04-08  2019    4   \n",
              "1                     6411             6411          1 2019-04-08  2019    4   \n",
              "2                     6097             6036          1 2019-04-08  2019    4   \n",
              "3                     6310             6345          1 2019-04-08  2019    4   \n",
              "4                     7029             6250          0 2019-04-08  2019    4   \n",
              "...                    ...              ...        ...        ...   ...  ...   \n",
              "8862581               7073             6209          1 2020-11-16  2020   11   \n",
              "8862582               6154             7035          1 2020-11-16  2020   11   \n",
              "8862583               6108             6017          1 2020-11-16  2020   11   \n",
              "8862584               6104             6119          1 2020-11-16  2020   11   \n",
              "8862585               6148             6370          1 2020-11-16  2020   11   \n",
              "\n",
              "                semana,inicio,fim,membro  qtd_viagens  \n",
              "0        2019-04-08 00:00:00,6001,6132,1            1  \n",
              "1        2019-04-08 00:00:00,6411,6411,1            1  \n",
              "2        2019-04-08 00:00:00,6097,6036,1            1  \n",
              "3        2019-04-08 00:00:00,6310,6345,1            1  \n",
              "4        2019-04-08 00:00:00,7029,6250,0            1  \n",
              "...                                  ...          ...  \n",
              "8862581  2020-11-16 00:00:00,7073,6209,1            1  \n",
              "8862582  2020-11-16 00:00:00,6154,7035,1            1  \n",
              "8862583  2020-11-16 00:00:00,6108,6017,1            1  \n",
              "8862584  2020-11-16 00:00:00,6104,6119,1            1  \n",
              "8862585  2020-11-16 00:00:00,6148,6370,1            1  \n",
              "\n",
              "[4035255 rows x 8 columns]"
            ]
          },
          "execution_count": 14,
          "metadata": {},
          "output_type": "execute_result"
        }
      ],
      "source": [
        "#Retirando linhas duplicadas\n",
        "dados = dados.drop_duplicates()\n",
        "dados"
      ]
    },
    {
      "cell_type": "markdown",
      "metadata": {
        "id": "cgM9P5PON1Zw"
      },
      "source": [
        "### Tratando dados categóricos\n",
        "\n",
        "Na base de dados de 2019, tem um código de estação que está como 'MTL-ECO5.1-01'. Esse termo foi consultado na base de códigos das estações disponibilizado pela BIXI Montreal, como não foi localizado, acredita-se ser um erro de registro. Devido a isso e por existir apenas 3 registros, as linhas com essa estação foram excluídas."
      ]
    },
    {
      "cell_type": "code",
      "execution_count": null,
      "metadata": {
        "id": "ooeXFmotN1Zx",
        "outputId": "4c99c103-8c55-4a66-a96a-d290131651e3"
      },
      "outputs": [
        {
          "data": {
            "text/plain": [
              "(4035255, 8)"
            ]
          },
          "execution_count": 15,
          "metadata": {},
          "output_type": "execute_result"
        }
      ],
      "source": [
        "#Qtd de linhas antes\n",
        "dados.shape"
      ]
    },
    {
      "cell_type": "code",
      "execution_count": null,
      "metadata": {
        "id": "W8b-M68lN1Zy",
        "outputId": "105d66b1-9da2-423d-86fd-fa9a3f724406"
      },
      "outputs": [
        {
          "data": {
            "text/html": [
              "<div>\n",
              "<style scoped>\n",
              "    .dataframe tbody tr th:only-of-type {\n",
              "        vertical-align: middle;\n",
              "    }\n",
              "\n",
              "    .dataframe tbody tr th {\n",
              "        vertical-align: top;\n",
              "    }\n",
              "\n",
              "    .dataframe thead th {\n",
              "        text-align: right;\n",
              "    }\n",
              "</style>\n",
              "<table border=\"1\" class=\"dataframe\">\n",
              "  <thead>\n",
              "    <tr style=\"text-align: right;\">\n",
              "      <th></th>\n",
              "      <th>start_station_code</th>\n",
              "      <th>end_station_code</th>\n",
              "      <th>is_member</th>\n",
              "      <th>semana</th>\n",
              "      <th>ano</th>\n",
              "      <th>mes</th>\n",
              "      <th>semana,inicio,fim,membro</th>\n",
              "      <th>qtd_viagens</th>\n",
              "    </tr>\n",
              "  </thead>\n",
              "  <tbody>\n",
              "    <tr>\n",
              "      <th>3788059</th>\n",
              "      <td>MTL-ECO5.1-01</td>\n",
              "      <td>MTL-ECO5.1-01</td>\n",
              "      <td>1</td>\n",
              "      <td>2019-08-19</td>\n",
              "      <td>2019</td>\n",
              "      <td>8</td>\n",
              "      <td>2019-08-19 00:00:00,MTL-ECO5.1-01,MTL-ECO5.1-01,1</td>\n",
              "      <td>3</td>\n",
              "    </tr>\n",
              "  </tbody>\n",
              "</table>\n",
              "</div>"
            ],
            "text/plain": [
              "        start_station_code end_station_code  is_member     semana   ano  mes  \\\n",
              "3788059      MTL-ECO5.1-01    MTL-ECO5.1-01          1 2019-08-19  2019    8   \n",
              "\n",
              "                                  semana,inicio,fim,membro  qtd_viagens  \n",
              "3788059  2019-08-19 00:00:00,MTL-ECO5.1-01,MTL-ECO5.1-01,1            3  "
            ]
          },
          "execution_count": 16,
          "metadata": {},
          "output_type": "execute_result"
        }
      ],
      "source": [
        "#Selecionando as linhas com 'MTL-ECO5.1-01'\n",
        "cat = dados.loc[(dados['start_station_code'] == 'MTL-ECO5.1-01')]\n",
        "cat"
      ]
    },
    {
      "cell_type": "code",
      "execution_count": null,
      "metadata": {
        "id": "S5ipgy-gN1Zz",
        "outputId": "c411242a-0fb8-46f1-c9c0-970e1479ee90"
      },
      "outputs": [
        {
          "data": {
            "text/html": [
              "<div>\n",
              "<style scoped>\n",
              "    .dataframe tbody tr th:only-of-type {\n",
              "        vertical-align: middle;\n",
              "    }\n",
              "\n",
              "    .dataframe tbody tr th {\n",
              "        vertical-align: top;\n",
              "    }\n",
              "\n",
              "    .dataframe thead th {\n",
              "        text-align: right;\n",
              "    }\n",
              "</style>\n",
              "<table border=\"1\" class=\"dataframe\">\n",
              "  <thead>\n",
              "    <tr style=\"text-align: right;\">\n",
              "      <th></th>\n",
              "      <th>start_station_code</th>\n",
              "      <th>end_station_code</th>\n",
              "      <th>is_member</th>\n",
              "      <th>semana</th>\n",
              "      <th>ano</th>\n",
              "      <th>mes</th>\n",
              "      <th>semana,inicio,fim,membro</th>\n",
              "      <th>qtd_viagens</th>\n",
              "    </tr>\n",
              "  </thead>\n",
              "  <tbody>\n",
              "    <tr>\n",
              "      <th>0</th>\n",
              "      <td>6001</td>\n",
              "      <td>6132</td>\n",
              "      <td>1</td>\n",
              "      <td>2019-04-08</td>\n",
              "      <td>2019</td>\n",
              "      <td>4</td>\n",
              "      <td>2019-04-08 00:00:00,6001,6132,1</td>\n",
              "      <td>1</td>\n",
              "    </tr>\n",
              "    <tr>\n",
              "      <th>1</th>\n",
              "      <td>6411</td>\n",
              "      <td>6411</td>\n",
              "      <td>1</td>\n",
              "      <td>2019-04-08</td>\n",
              "      <td>2019</td>\n",
              "      <td>4</td>\n",
              "      <td>2019-04-08 00:00:00,6411,6411,1</td>\n",
              "      <td>1</td>\n",
              "    </tr>\n",
              "    <tr>\n",
              "      <th>2</th>\n",
              "      <td>6097</td>\n",
              "      <td>6036</td>\n",
              "      <td>1</td>\n",
              "      <td>2019-04-08</td>\n",
              "      <td>2019</td>\n",
              "      <td>4</td>\n",
              "      <td>2019-04-08 00:00:00,6097,6036,1</td>\n",
              "      <td>1</td>\n",
              "    </tr>\n",
              "    <tr>\n",
              "      <th>3</th>\n",
              "      <td>6310</td>\n",
              "      <td>6345</td>\n",
              "      <td>1</td>\n",
              "      <td>2019-04-08</td>\n",
              "      <td>2019</td>\n",
              "      <td>4</td>\n",
              "      <td>2019-04-08 00:00:00,6310,6345,1</td>\n",
              "      <td>1</td>\n",
              "    </tr>\n",
              "    <tr>\n",
              "      <th>4</th>\n",
              "      <td>7029</td>\n",
              "      <td>6250</td>\n",
              "      <td>0</td>\n",
              "      <td>2019-04-08</td>\n",
              "      <td>2019</td>\n",
              "      <td>4</td>\n",
              "      <td>2019-04-08 00:00:00,7029,6250,0</td>\n",
              "      <td>1</td>\n",
              "    </tr>\n",
              "  </tbody>\n",
              "</table>\n",
              "</div>"
            ],
            "text/plain": [
              "  start_station_code end_station_code  is_member     semana   ano  mes  \\\n",
              "0               6001             6132          1 2019-04-08  2019    4   \n",
              "1               6411             6411          1 2019-04-08  2019    4   \n",
              "2               6097             6036          1 2019-04-08  2019    4   \n",
              "3               6310             6345          1 2019-04-08  2019    4   \n",
              "4               7029             6250          0 2019-04-08  2019    4   \n",
              "\n",
              "          semana,inicio,fim,membro  qtd_viagens  \n",
              "0  2019-04-08 00:00:00,6001,6132,1            1  \n",
              "1  2019-04-08 00:00:00,6411,6411,1            1  \n",
              "2  2019-04-08 00:00:00,6097,6036,1            1  \n",
              "3  2019-04-08 00:00:00,6310,6345,1            1  \n",
              "4  2019-04-08 00:00:00,7029,6250,0            1  "
            ]
          },
          "execution_count": 17,
          "metadata": {},
          "output_type": "execute_result"
        }
      ],
      "source": [
        "#Removendo linhas da base principal\n",
        "dados = dados.drop(cat.index)\n",
        "dados.head()"
      ]
    },
    {
      "cell_type": "code",
      "execution_count": null,
      "metadata": {
        "id": "70PMZSZIN1Zz",
        "outputId": "1f86ad93-489d-4908-89c9-d324bd0f7689"
      },
      "outputs": [
        {
          "data": {
            "text/plain": [
              "(4035254, 8)"
            ]
          },
          "execution_count": 18,
          "metadata": {},
          "output_type": "execute_result"
        }
      ],
      "source": [
        "#Qtd de linhas depois\n",
        "dados.shape"
      ]
    },
    {
      "cell_type": "markdown",
      "metadata": {
        "id": "X2TObRToN1Z0"
      },
      "source": [
        "### Separando as bases de 2019 e 2020\n",
        "\n",
        "#### Base de 2019:"
      ]
    },
    {
      "cell_type": "code",
      "execution_count": null,
      "metadata": {
        "id": "7YuTuaqhN1Z1",
        "outputId": "9981a21b-1711-4a6a-c60e-68d32a5d86b0"
      },
      "outputs": [
        {
          "data": {
            "text/plain": [
              "(2330820, 8)"
            ]
          },
          "execution_count": 19,
          "metadata": {},
          "output_type": "execute_result"
        }
      ],
      "source": [
        "#Filtrando os dados de 2019 - será utilizado para treinar e testar os modelos\n",
        "dados_2019 = dados.loc[dados['ano']==2019]\n",
        "dados_2019 = pd.DataFrame(dados_2019)\n",
        "dados_2019.shape"
      ]
    },
    {
      "cell_type": "code",
      "execution_count": null,
      "metadata": {
        "id": "vvqqlV3wN1Z1",
        "outputId": "b97936c6-0752-473b-d904-10e149bae9b5"
      },
      "outputs": [
        {
          "data": {
            "text/plain": [
              "start_station_code                  object\n",
              "end_station_code                    object\n",
              "is_member                            int64\n",
              "semana                      datetime64[ns]\n",
              "ano                                  int64\n",
              "mes                                  int64\n",
              "semana,inicio,fim,membro            object\n",
              "qtd_viagens                          int64\n",
              "n_semana                            object\n",
              "dtype: object"
            ]
          },
          "execution_count": 20,
          "metadata": {},
          "output_type": "execute_result"
        }
      ],
      "source": [
        "#Alterando o tipo de dado da semana de data para objeto para conseguir contar a frequência\n",
        "dados_2019['n_semana'] = dados_2019['semana'].astype(object)\n",
        "dados_2019.dtypes"
      ]
    },
    {
      "cell_type": "code",
      "execution_count": null,
      "metadata": {
        "id": "1X6fKDnsN1Z2"
      },
      "outputs": [],
      "source": [
        "#Substituindo as datas da coluna semana por uma sequência numérica\n",
        "semanas_2019 = dados_2019['n_semana'].unique()\n",
        "total_semanas_2019 = len(semanas_2019)\n",
        "mapeamento_semanas_2019 = dict(zip(semanas_2019, range(total_semanas_2019)))\n",
        "dados_2019['n_semana'] = dados_2019['n_semana'].replace(mapeamento_semanas_2019)"
      ]
    },
    {
      "cell_type": "code",
      "execution_count": null,
      "metadata": {
        "id": "01yA3LPzN1Z3",
        "outputId": "47469bc7-ac68-4b3f-cbb4-b3b1653f41c3"
      },
      "outputs": [
        {
          "data": {
            "text/plain": [
              "5745955"
            ]
          },
          "execution_count": 22,
          "metadata": {},
          "output_type": "execute_result"
        }
      ],
      "source": [
        "dados_2019['qtd_viagens'].sum()"
      ]
    },
    {
      "cell_type": "markdown",
      "metadata": {
        "id": "RMbA61l7N1Z3"
      },
      "source": [
        "A soma da quantidade de viagens era para ser 5597842 (qtd de linhas da base inicial de 2019). Assim, o .drop_duplicates foi aplicado novamente na coluna 'semana,inicio,fim,membro'."
      ]
    },
    {
      "cell_type": "code",
      "execution_count": null,
      "metadata": {
        "id": "_AM9ZMcYN1Z4",
        "outputId": "6edd04a0-8cd3-4e00-a3c6-1b0046d88521"
      },
      "outputs": [
        {
          "data": {
            "text/plain": [
              "5597842"
            ]
          },
          "execution_count": 23,
          "metadata": {},
          "output_type": "execute_result"
        }
      ],
      "source": [
        "dados_2019 = dados_2019.drop_duplicates(subset='semana,inicio,fim,membro', keep=\"last\")\n",
        "dados_2019['qtd_viagens'].sum()"
      ]
    },
    {
      "cell_type": "markdown",
      "metadata": {
        "id": "s71aXfvxN1Z5"
      },
      "source": [
        "#### Base de 2020:"
      ]
    },
    {
      "cell_type": "code",
      "execution_count": null,
      "metadata": {
        "id": "IHYYCUIPN1Z5",
        "outputId": "5ea2db84-6109-4b7e-a51f-e0302cbac451"
      },
      "outputs": [
        {
          "data": {
            "text/plain": [
              "(1704434, 8)"
            ]
          },
          "execution_count": 24,
          "metadata": {},
          "output_type": "execute_result"
        }
      ],
      "source": [
        "#Filtrando os dados de 2020 - será utilizado para prever a demanda de 2020\n",
        "dados_2020 = dados.loc[dados['ano']==2020]\n",
        "dados_2020 = pd.DataFrame(dados_2020)\n",
        "dados_2020.shape"
      ]
    },
    {
      "cell_type": "code",
      "execution_count": null,
      "metadata": {
        "id": "-_To7s_bN1Z6",
        "outputId": "fc8ced22-03da-49ec-ce73-0e7037e7bf4f"
      },
      "outputs": [
        {
          "data": {
            "text/plain": [
              "start_station_code                  object\n",
              "end_station_code                    object\n",
              "is_member                            int64\n",
              "semana                      datetime64[ns]\n",
              "ano                                  int64\n",
              "mes                                  int64\n",
              "semana,inicio,fim,membro            object\n",
              "qtd_viagens                          int64\n",
              "n_semana                            object\n",
              "dtype: object"
            ]
          },
          "execution_count": 25,
          "metadata": {},
          "output_type": "execute_result"
        }
      ],
      "source": [
        "#Alterando o tipo de dado da semana de data para objeto para conseguir contar a frequência\n",
        "dados_2020['n_semana'] = dados_2020['semana'].astype(object)\n",
        "dados_2020.dtypes"
      ]
    },
    {
      "cell_type": "code",
      "execution_count": null,
      "metadata": {
        "id": "gAbu_eflN1Z7"
      },
      "outputs": [],
      "source": [
        "#Substituindo as datas da coluna semana por uma sequência numérica\n",
        "semanas_2020 = dados_2020['n_semana'].unique()\n",
        "total_semanas_2020 = len(semanas_2020)\n",
        "mapeamento_semanas_2020 = dict(zip(semanas_2020, range(total_semanas_2020)))\n",
        "dados_2020['n_semana'] = dados_2020['n_semana'].replace(mapeamento_semanas_2020)"
      ]
    },
    {
      "cell_type": "code",
      "execution_count": null,
      "metadata": {
        "id": "I-stsIOCN1Z7",
        "outputId": "7b559c53-8072-45db-f8be-7e103ab292d0"
      },
      "outputs": [
        {
          "data": {
            "text/plain": [
              "3264741"
            ]
          },
          "execution_count": 27,
          "metadata": {},
          "output_type": "execute_result"
        }
      ],
      "source": [
        "dados_2020['qtd_viagens'].sum()"
      ]
    },
    {
      "cell_type": "markdown",
      "metadata": {
        "id": "DZ5FVNLYN1Z8"
      },
      "source": [
        "#### Salvando bases em csv"
      ]
    },
    {
      "cell_type": "code",
      "execution_count": null,
      "metadata": {
        "id": "v_ksgV1eN1Z9"
      },
      "outputs": [],
      "source": [
        "dados.to_csv('dados.csv')\n",
        "dados_2019.to_csv('dados_2019.csv')\n",
        "dados_2020.to_csv('dados_2020.csv')"
      ]
    },
    {
      "cell_type": "markdown",
      "metadata": {
        "id": "LraDU4Ia9mdZ"
      },
      "source": [
        "## Visualizando os dados"
      ]
    },
    {
      "cell_type": "code",
      "execution_count": null,
      "metadata": {
        "id": "4Zqv1DqxN1Z-"
      },
      "outputs": [],
      "source": [
        "dados = pd.concat([dados_2019, dados_2020])"
      ]
    },
    {
      "cell_type": "code",
      "execution_count": null,
      "metadata": {
        "id": "FQLqTlMmN1Z-",
        "outputId": "55028c38-4c93-49d6-d58e-2bc74bb98758"
      },
      "outputs": [
        {
          "data": {
            "text/html": [
              "<div>\n",
              "<style scoped>\n",
              "    .dataframe tbody tr th:only-of-type {\n",
              "        vertical-align: middle;\n",
              "    }\n",
              "\n",
              "    .dataframe tbody tr th {\n",
              "        vertical-align: top;\n",
              "    }\n",
              "\n",
              "    .dataframe thead th {\n",
              "        text-align: right;\n",
              "    }\n",
              "</style>\n",
              "<table border=\"1\" class=\"dataframe\">\n",
              "  <thead>\n",
              "    <tr style=\"text-align: right;\">\n",
              "      <th></th>\n",
              "      <th>ano</th>\n",
              "      <th>qtd_viagens</th>\n",
              "    </tr>\n",
              "  </thead>\n",
              "  <tbody>\n",
              "    <tr>\n",
              "      <th>0</th>\n",
              "      <td>2019</td>\n",
              "      <td>5597842</td>\n",
              "    </tr>\n",
              "    <tr>\n",
              "      <th>1</th>\n",
              "      <td>2020</td>\n",
              "      <td>3264741</td>\n",
              "    </tr>\n",
              "  </tbody>\n",
              "</table>\n",
              "</div>"
            ],
            "text/plain": [
              "    ano  qtd_viagens\n",
              "0  2019      5597842\n",
              "1  2020      3264741"
            ]
          },
          "execution_count": 38,
          "metadata": {},
          "output_type": "execute_result"
        }
      ],
      "source": [
        "#Calculando a quantidade total de viagens por ano\n",
        "viagens_por_ano = dados.groupby(['ano'])['qtd_viagens'].sum()\n",
        "viagens_por_ano = pd.DataFrame(viagens_por_ano)\n",
        "viagens_por_ano = viagens_por_ano.reset_index()\n",
        "viagens_por_ano"
      ]
    },
    {
      "cell_type": "code",
      "execution_count": null,
      "metadata": {
        "id": "F7w_SsHQN1Z_",
        "outputId": "274e0eb5-c09a-4f27-f82d-aafc843fa73e"
      },
      "outputs": [
        {
          "data": {
            "image/png": "[encoded data removed]",
            "text/plain": [
              "<Figure size 720x360 with 1 Axes>"
            ]
          },
          "metadata": {
            "needs_background": "light"
          },
          "output_type": "display_data"
        }
      ],
      "source": [
        "#Gráfico da quantidade total de viagens por ano\n",
        "\n",
        "#Criando uma figure, axes\n",
        "fig, ax = plt.subplots(figsize=(10,5))\n",
        "\n",
        "#Criando o gráfico de barras \n",
        "ax = sns.barplot(x=viagens_por_ano['ano'], y=viagens_por_ano['qtd_viagens'], ax=ax, data=viagens_por_ano, palette=\"Blues\")\n",
        "\n",
        "#Criando o layout\n",
        "ax.set_title('Quantidade total de viagens por ano')\n",
        "ax.set_xlabel('Anos')\n",
        "ax.set_ylabel('Quantidade de viagens')\n",
        "\n",
        "#Criando os rótulos dos dados\n",
        "for i in ax.patches:\n",
        "    h = i.get_height()\n",
        "    ax.annotate('{}'.format(h), xy = (i.get_x()+i.get_width()/2, h), xytext = (0,3), textcoords = 'offset points', ha = 'center')\n",
        "\n",
        "#Otimizando espaço da figure\n",
        "fig.tight_layout();"
      ]
    },
    {
      "cell_type": "code",
      "execution_count": null,
      "metadata": {
        "id": "JfKmJ2BsN1aA",
        "outputId": "15607ca0-9ca0-496a-876e-465c08391544"
      },
      "outputs": [
        {
          "data": {
            "text/html": [
              "<div>\n",
              "<style scoped>\n",
              "    .dataframe tbody tr th:only-of-type {\n",
              "        vertical-align: middle;\n",
              "    }\n",
              "\n",
              "    .dataframe tbody tr th {\n",
              "        vertical-align: top;\n",
              "    }\n",
              "\n",
              "    .dataframe thead th {\n",
              "        text-align: right;\n",
              "    }\n",
              "</style>\n",
              "<table border=\"1\" class=\"dataframe\">\n",
              "  <thead>\n",
              "    <tr style=\"text-align: right;\">\n",
              "      <th></th>\n",
              "      <th>ano</th>\n",
              "      <th>is_member</th>\n",
              "      <th>qtd_viagens</th>\n",
              "    </tr>\n",
              "  </thead>\n",
              "  <tbody>\n",
              "    <tr>\n",
              "      <th>0</th>\n",
              "      <td>2019</td>\n",
              "      <td>0</td>\n",
              "      <td>1005062</td>\n",
              "    </tr>\n",
              "    <tr>\n",
              "      <th>1</th>\n",
              "      <td>2019</td>\n",
              "      <td>1</td>\n",
              "      <td>4592780</td>\n",
              "    </tr>\n",
              "    <tr>\n",
              "      <th>2</th>\n",
              "      <td>2020</td>\n",
              "      <td>0</td>\n",
              "      <td>663772</td>\n",
              "    </tr>\n",
              "    <tr>\n",
              "      <th>3</th>\n",
              "      <td>2020</td>\n",
              "      <td>1</td>\n",
              "      <td>2600969</td>\n",
              "    </tr>\n",
              "  </tbody>\n",
              "</table>\n",
              "</div>"
            ],
            "text/plain": [
              "    ano  is_member  qtd_viagens\n",
              "0  2019          0      1005062\n",
              "1  2019          1      4592780\n",
              "2  2020          0       663772\n",
              "3  2020          1      2600969"
            ]
          },
          "execution_count": 40,
          "metadata": {},
          "output_type": "execute_result"
        }
      ],
      "source": [
        "#Calculando a quantidade total de viagens por ano e membro\n",
        "viagens_por_ano_membro = dados.groupby(['ano', 'is_member'])['qtd_viagens'].sum()\n",
        "viagens_por_ano_membro = pd.DataFrame(viagens_por_ano_membro)\n",
        "viagens_por_ano_membro = viagens_por_ano_membro.reset_index()\n",
        "viagens_por_ano_membro.head()"
      ]
    },
    {
      "cell_type": "code",
      "execution_count": null,
      "metadata": {
        "id": "c480-ya9N1aB",
        "outputId": "1879f80c-44c2-45a5-e62d-c908f5477848"
      },
      "outputs": [
        {
          "data": {
            "image/png": "[encoded data removed]",
            "text/plain": [
              "<Figure size 720x360 with 1 Axes>"
            ]
          },
          "metadata": {
            "needs_background": "light"
          },
          "output_type": "display_data"
        }
      ],
      "source": [
        "#Gráfico da quantidade total de viagens por ano e membro\n",
        "\n",
        "#Criando uma figure, axes\n",
        "fig, ax = plt.subplots(figsize=(10,5))\n",
        "\n",
        "#Criando o gráfico de barras \n",
        "ax = sns.barplot(x=viagens_por_ano_membro['ano'], y=viagens_por_ano_membro['qtd_viagens'], hue='is_member', ax=ax, data=viagens_por_ano_membro, palette=\"Blues\")\n",
        "\n",
        "#Criando o layout\n",
        "ax.set_title('Quantidade total de viagens por ano dividida por membros e não membros')\n",
        "ax.set_xlabel('Anos')\n",
        "ax.set_ylabel('Quantidade de viagens')\n",
        "\n",
        "#Criando os rótulos dos dados\n",
        "for i in ax.patches:\n",
        "    h = i.get_height()\n",
        "    ax.annotate('{}'.format(h), xy = (i.get_x()+i.get_width()/2, h), xytext = (0,3), textcoords = 'offset points', ha = 'center')\n",
        "\n",
        "#Otimizando espaço da figure\n",
        "fig.tight_layout();"
      ]
    },
    {
      "cell_type": "code",
      "execution_count": null,
      "metadata": {
        "id": "hmQqER6qN1aC"
      },
      "outputs": [],
      "source": [
        "dados_2019 = pd.read_csv(\"dados_2019.csv\")\n",
        "dados_2020 = pd.read_csv(\"dados_2020.csv\")"
      ]
    },
    {
      "cell_type": "code",
      "execution_count": null,
      "metadata": {
        "id": "2LokhOiuN1aC",
        "outputId": "80917f3c-682f-48fa-d90a-b6b57f1bbaad"
      },
      "outputs": [
        {
          "data": {
            "text/html": [
              "<div>\n",
              "<style scoped>\n",
              "    .dataframe tbody tr th:only-of-type {\n",
              "        vertical-align: middle;\n",
              "    }\n",
              "\n",
              "    .dataframe tbody tr th {\n",
              "        vertical-align: top;\n",
              "    }\n",
              "\n",
              "    .dataframe thead th {\n",
              "        text-align: right;\n",
              "    }\n",
              "</style>\n",
              "<table border=\"1\" class=\"dataframe\">\n",
              "  <thead>\n",
              "    <tr style=\"text-align: right;\">\n",
              "      <th></th>\n",
              "      <th>semana</th>\n",
              "      <th>qtd_viagens</th>\n",
              "    </tr>\n",
              "  </thead>\n",
              "  <tbody>\n",
              "    <tr>\n",
              "      <th>0</th>\n",
              "      <td>2019-04-08</td>\n",
              "      <td>9143</td>\n",
              "    </tr>\n",
              "    <tr>\n",
              "      <th>1</th>\n",
              "      <td>2019-04-15</td>\n",
              "      <td>81796</td>\n",
              "    </tr>\n",
              "    <tr>\n",
              "      <th>2</th>\n",
              "      <td>2019-04-22</td>\n",
              "      <td>102919</td>\n",
              "    </tr>\n",
              "    <tr>\n",
              "      <th>3</th>\n",
              "      <td>2019-04-29</td>\n",
              "      <td>148721</td>\n",
              "    </tr>\n",
              "    <tr>\n",
              "      <th>4</th>\n",
              "      <td>2019-05-06</td>\n",
              "      <td>172137</td>\n",
              "    </tr>\n",
              "    <tr>\n",
              "      <th>5</th>\n",
              "      <td>2019-05-13</td>\n",
              "      <td>164058</td>\n",
              "    </tr>\n",
              "    <tr>\n",
              "      <th>6</th>\n",
              "      <td>2019-05-20</td>\n",
              "      <td>198095</td>\n",
              "    </tr>\n",
              "    <tr>\n",
              "      <th>7</th>\n",
              "      <td>2019-05-27</td>\n",
              "      <td>197187</td>\n",
              "    </tr>\n",
              "    <tr>\n",
              "      <th>8</th>\n",
              "      <td>2019-06-03</td>\n",
              "      <td>233966</td>\n",
              "    </tr>\n",
              "    <tr>\n",
              "      <th>9</th>\n",
              "      <td>2019-06-10</td>\n",
              "      <td>200064</td>\n",
              "    </tr>\n",
              "    <tr>\n",
              "      <th>10</th>\n",
              "      <td>2019-06-17</td>\n",
              "      <td>230586</td>\n",
              "    </tr>\n",
              "    <tr>\n",
              "      <th>11</th>\n",
              "      <td>2019-06-24</td>\n",
              "      <td>222602</td>\n",
              "    </tr>\n",
              "    <tr>\n",
              "      <th>12</th>\n",
              "      <td>2019-07-01</td>\n",
              "      <td>256021</td>\n",
              "    </tr>\n",
              "    <tr>\n",
              "      <th>13</th>\n",
              "      <td>2019-07-08</td>\n",
              "      <td>234581</td>\n",
              "    </tr>\n",
              "    <tr>\n",
              "      <th>14</th>\n",
              "      <td>2019-07-15</td>\n",
              "      <td>244348</td>\n",
              "    </tr>\n",
              "    <tr>\n",
              "      <th>15</th>\n",
              "      <td>2019-07-22</td>\n",
              "      <td>261504</td>\n",
              "    </tr>\n",
              "    <tr>\n",
              "      <th>16</th>\n",
              "      <td>2019-07-29</td>\n",
              "      <td>251423</td>\n",
              "    </tr>\n",
              "    <tr>\n",
              "      <th>17</th>\n",
              "      <td>2019-08-05</td>\n",
              "      <td>230165</td>\n",
              "    </tr>\n",
              "    <tr>\n",
              "      <th>18</th>\n",
              "      <td>2019-08-12</td>\n",
              "      <td>236155</td>\n",
              "    </tr>\n",
              "    <tr>\n",
              "      <th>19</th>\n",
              "      <td>2019-08-19</td>\n",
              "      <td>245189</td>\n",
              "    </tr>\n",
              "    <tr>\n",
              "      <th>20</th>\n",
              "      <td>2019-08-26</td>\n",
              "      <td>218602</td>\n",
              "    </tr>\n",
              "    <tr>\n",
              "      <th>21</th>\n",
              "      <td>2019-09-02</td>\n",
              "      <td>193071</td>\n",
              "    </tr>\n",
              "    <tr>\n",
              "      <th>22</th>\n",
              "      <td>2019-09-09</td>\n",
              "      <td>206042</td>\n",
              "    </tr>\n",
              "    <tr>\n",
              "      <th>23</th>\n",
              "      <td>2019-09-16</td>\n",
              "      <td>225804</td>\n",
              "    </tr>\n",
              "    <tr>\n",
              "      <th>24</th>\n",
              "      <td>2019-09-23</td>\n",
              "      <td>189548</td>\n",
              "    </tr>\n",
              "    <tr>\n",
              "      <th>25</th>\n",
              "      <td>2019-09-30</td>\n",
              "      <td>151005</td>\n",
              "    </tr>\n",
              "    <tr>\n",
              "      <th>26</th>\n",
              "      <td>2019-10-07</td>\n",
              "      <td>164200</td>\n",
              "    </tr>\n",
              "    <tr>\n",
              "      <th>27</th>\n",
              "      <td>2019-10-14</td>\n",
              "      <td>120572</td>\n",
              "    </tr>\n",
              "    <tr>\n",
              "      <th>28</th>\n",
              "      <td>2019-10-21</td>\n",
              "      <td>132217</td>\n",
              "    </tr>\n",
              "    <tr>\n",
              "      <th>29</th>\n",
              "      <td>2019-10-28</td>\n",
              "      <td>76121</td>\n",
              "    </tr>\n",
              "  </tbody>\n",
              "</table>\n",
              "</div>"
            ],
            "text/plain": [
              "        semana  qtd_viagens\n",
              "0   2019-04-08         9143\n",
              "1   2019-04-15        81796\n",
              "2   2019-04-22       102919\n",
              "3   2019-04-29       148721\n",
              "4   2019-05-06       172137\n",
              "5   2019-05-13       164058\n",
              "6   2019-05-20       198095\n",
              "7   2019-05-27       197187\n",
              "8   2019-06-03       233966\n",
              "9   2019-06-10       200064\n",
              "10  2019-06-17       230586\n",
              "11  2019-06-24       222602\n",
              "12  2019-07-01       256021\n",
              "13  2019-07-08       234581\n",
              "14  2019-07-15       244348\n",
              "15  2019-07-22       261504\n",
              "16  2019-07-29       251423\n",
              "17  2019-08-05       230165\n",
              "18  2019-08-12       236155\n",
              "19  2019-08-19       245189\n",
              "20  2019-08-26       218602\n",
              "21  2019-09-02       193071\n",
              "22  2019-09-09       206042\n",
              "23  2019-09-16       225804\n",
              "24  2019-09-23       189548\n",
              "25  2019-09-30       151005\n",
              "26  2019-10-07       164200\n",
              "27  2019-10-14       120572\n",
              "28  2019-10-21       132217\n",
              "29  2019-10-28        76121"
            ]
          },
          "execution_count": 3,
          "metadata": {},
          "output_type": "execute_result"
        }
      ],
      "source": [
        "#Calculando a quantidade total de viagens por semana - 2019\n",
        "viagens_por_semana_2019 = dados_2019.groupby(['semana'])['qtd_viagens'].sum()\n",
        "viagens_por_semana_2019 = pd.DataFrame(viagens_por_semana_2019)\n",
        "viagens_por_semana_2019 = viagens_por_semana_2019.reset_index()\n",
        "viagens_por_semana_2019"
      ]
    },
    {
      "cell_type": "code",
      "execution_count": null,
      "metadata": {
        "id": "oyilFB_eN1aD",
        "outputId": "d3ac4c11-efc1-4ac7-cb3b-6c452a8f2e77"
      },
      "outputs": [
        {
          "data": {
            "text/html": [
              "<div>\n",
              "<style scoped>\n",
              "    .dataframe tbody tr th:only-of-type {\n",
              "        vertical-align: middle;\n",
              "    }\n",
              "\n",
              "    .dataframe tbody tr th {\n",
              "        vertical-align: top;\n",
              "    }\n",
              "\n",
              "    .dataframe thead th {\n",
              "        text-align: right;\n",
              "    }\n",
              "</style>\n",
              "<table border=\"1\" class=\"dataframe\">\n",
              "  <thead>\n",
              "    <tr style=\"text-align: right;\">\n",
              "      <th></th>\n",
              "      <th>semana</th>\n",
              "      <th>qtd_viagens</th>\n",
              "    </tr>\n",
              "  </thead>\n",
              "  <tbody>\n",
              "    <tr>\n",
              "      <th>0</th>\n",
              "      <td>2020-04-13</td>\n",
              "      <td>15944</td>\n",
              "    </tr>\n",
              "    <tr>\n",
              "      <th>1</th>\n",
              "      <td>2020-04-20</td>\n",
              "      <td>32475</td>\n",
              "    </tr>\n",
              "    <tr>\n",
              "      <th>2</th>\n",
              "      <td>2020-04-27</td>\n",
              "      <td>53894</td>\n",
              "    </tr>\n",
              "    <tr>\n",
              "      <th>3</th>\n",
              "      <td>2020-05-04</td>\n",
              "      <td>45049</td>\n",
              "    </tr>\n",
              "    <tr>\n",
              "      <th>4</th>\n",
              "      <td>2020-05-11</td>\n",
              "      <td>74550</td>\n",
              "    </tr>\n",
              "    <tr>\n",
              "      <th>5</th>\n",
              "      <td>2020-05-18</td>\n",
              "      <td>119463</td>\n",
              "    </tr>\n",
              "    <tr>\n",
              "      <th>6</th>\n",
              "      <td>2020-05-25</td>\n",
              "      <td>103482</td>\n",
              "    </tr>\n",
              "    <tr>\n",
              "      <th>7</th>\n",
              "      <td>2020-06-01</td>\n",
              "      <td>115471</td>\n",
              "    </tr>\n",
              "    <tr>\n",
              "      <th>8</th>\n",
              "      <td>2020-06-08</td>\n",
              "      <td>123825</td>\n",
              "    </tr>\n",
              "    <tr>\n",
              "      <th>9</th>\n",
              "      <td>2020-06-15</td>\n",
              "      <td>139994</td>\n",
              "    </tr>\n",
              "    <tr>\n",
              "      <th>10</th>\n",
              "      <td>2020-06-22</td>\n",
              "      <td>131693</td>\n",
              "    </tr>\n",
              "    <tr>\n",
              "      <th>11</th>\n",
              "      <td>2020-06-29</td>\n",
              "      <td>147090</td>\n",
              "    </tr>\n",
              "    <tr>\n",
              "      <th>12</th>\n",
              "      <td>2020-07-06</td>\n",
              "      <td>138744</td>\n",
              "    </tr>\n",
              "    <tr>\n",
              "      <th>13</th>\n",
              "      <td>2020-07-13</td>\n",
              "      <td>146145</td>\n",
              "    </tr>\n",
              "    <tr>\n",
              "      <th>14</th>\n",
              "      <td>2020-07-20</td>\n",
              "      <td>150576</td>\n",
              "    </tr>\n",
              "    <tr>\n",
              "      <th>15</th>\n",
              "      <td>2020-07-27</td>\n",
              "      <td>134812</td>\n",
              "    </tr>\n",
              "    <tr>\n",
              "      <th>16</th>\n",
              "      <td>2020-08-03</td>\n",
              "      <td>134429</td>\n",
              "    </tr>\n",
              "    <tr>\n",
              "      <th>17</th>\n",
              "      <td>2020-08-10</td>\n",
              "      <td>153758</td>\n",
              "    </tr>\n",
              "    <tr>\n",
              "      <th>18</th>\n",
              "      <td>2020-08-17</td>\n",
              "      <td>138786</td>\n",
              "    </tr>\n",
              "    <tr>\n",
              "      <th>19</th>\n",
              "      <td>2020-08-24</td>\n",
              "      <td>125434</td>\n",
              "    </tr>\n",
              "    <tr>\n",
              "      <th>20</th>\n",
              "      <td>2020-08-31</td>\n",
              "      <td>140947</td>\n",
              "    </tr>\n",
              "    <tr>\n",
              "      <th>21</th>\n",
              "      <td>2020-09-07</td>\n",
              "      <td>116874</td>\n",
              "    </tr>\n",
              "    <tr>\n",
              "      <th>22</th>\n",
              "      <td>2020-09-14</td>\n",
              "      <td>125018</td>\n",
              "    </tr>\n",
              "    <tr>\n",
              "      <th>23</th>\n",
              "      <td>2020-09-21</td>\n",
              "      <td>130691</td>\n",
              "    </tr>\n",
              "    <tr>\n",
              "      <th>24</th>\n",
              "      <td>2020-09-28</td>\n",
              "      <td>92149</td>\n",
              "    </tr>\n",
              "    <tr>\n",
              "      <th>25</th>\n",
              "      <td>2020-10-05</td>\n",
              "      <td>87588</td>\n",
              "    </tr>\n",
              "    <tr>\n",
              "      <th>26</th>\n",
              "      <td>2020-10-12</td>\n",
              "      <td>77933</td>\n",
              "    </tr>\n",
              "    <tr>\n",
              "      <th>27</th>\n",
              "      <td>2020-10-19</td>\n",
              "      <td>73571</td>\n",
              "    </tr>\n",
              "    <tr>\n",
              "      <th>28</th>\n",
              "      <td>2020-10-26</td>\n",
              "      <td>55110</td>\n",
              "    </tr>\n",
              "    <tr>\n",
              "      <th>29</th>\n",
              "      <td>2020-11-02</td>\n",
              "      <td>71769</td>\n",
              "    </tr>\n",
              "    <tr>\n",
              "      <th>30</th>\n",
              "      <td>2020-11-09</td>\n",
              "      <td>67143</td>\n",
              "    </tr>\n",
              "    <tr>\n",
              "      <th>31</th>\n",
              "      <td>2020-11-16</td>\n",
              "      <td>334</td>\n",
              "    </tr>\n",
              "  </tbody>\n",
              "</table>\n",
              "</div>"
            ],
            "text/plain": [
              "        semana  qtd_viagens\n",
              "0   2020-04-13        15944\n",
              "1   2020-04-20        32475\n",
              "2   2020-04-27        53894\n",
              "3   2020-05-04        45049\n",
              "4   2020-05-11        74550\n",
              "5   2020-05-18       119463\n",
              "6   2020-05-25       103482\n",
              "7   2020-06-01       115471\n",
              "8   2020-06-08       123825\n",
              "9   2020-06-15       139994\n",
              "10  2020-06-22       131693\n",
              "11  2020-06-29       147090\n",
              "12  2020-07-06       138744\n",
              "13  2020-07-13       146145\n",
              "14  2020-07-20       150576\n",
              "15  2020-07-27       134812\n",
              "16  2020-08-03       134429\n",
              "17  2020-08-10       153758\n",
              "18  2020-08-17       138786\n",
              "19  2020-08-24       125434\n",
              "20  2020-08-31       140947\n",
              "21  2020-09-07       116874\n",
              "22  2020-09-14       125018\n",
              "23  2020-09-21       130691\n",
              "24  2020-09-28        92149\n",
              "25  2020-10-05        87588\n",
              "26  2020-10-12        77933\n",
              "27  2020-10-19        73571\n",
              "28  2020-10-26        55110\n",
              "29  2020-11-02        71769\n",
              "30  2020-11-09        67143\n",
              "31  2020-11-16          334"
            ]
          },
          "execution_count": 4,
          "metadata": {},
          "output_type": "execute_result"
        }
      ],
      "source": [
        "#Calculando a quantidade total de viagens por semana - 2020\n",
        "viagens_por_semana_2020 = dados_2020.groupby(['semana'])['qtd_viagens'].sum()\n",
        "viagens_por_semana_2020 = pd.DataFrame(viagens_por_semana_2020)\n",
        "viagens_por_semana_2020 = viagens_por_semana_2020.reset_index()\n",
        "viagens_por_semana_2020"
      ]
    },
    {
      "cell_type": "code",
      "execution_count": null,
      "metadata": {
        "scrolled": true,
        "id": "0KOkQCpEN1aE",
        "outputId": "9465ea46-c336-4425-ce12-0140d6b5dcae"
      },
      "outputs": [
        {
          "data": {
            "application/vnd.plotly.v1+json": {
              "config": {
                "linkText": "Export to plot.ly",
                "plotlyServerURL": "https://plot.ly",
                "showLink": false
              },
              "data": [
                {
                  "mode": "markers+lines",
                  "name": "Viagens em 2019",
                  "type": "scatter",
                  "x": [
                    "2019-04-08",
                    "2019-04-15",
                    "2019-04-22",
                    "2019-04-29",
                    "2019-05-06",
                    "2019-05-13",
                    "2019-05-20",
                    "2019-05-27",
                    "2019-06-03",
                    "2019-06-10",
                    "2019-06-17",
                    "2019-06-24",
                    "2019-07-01",
                    "2019-07-08",
                    "2019-07-15",
                    "2019-07-22",
                    "2019-07-29",
                    "2019-08-05",
                    "2019-08-12",
                    "2019-08-19",
                    "2019-08-26",
                    "2019-09-02",
                    "2019-09-09",
                    "2019-09-16",
                    "2019-09-23",
                    "2019-09-30",
                    "2019-10-07",
                    "2019-10-14",
                    "2019-10-21",
                    "2019-10-28"
                  ],
                  "y": [
                    9143,
                    81796,
                    102919,
                    148721,
                    172137,
                    164058,
                    198095,
                    197187,
                    233966,
                    200064,
                    230586,
                    222602,
                    256021,
                    234581,
                    244348,
                    261504,
                    251423,
                    230165,
                    236155,
                    245189,
                    218602,
                    193071,
                    206042,
                    225804,
                    189548,
                    151005,
                    164200,
                    120572,
                    132217,
                    76121
                  ]
                },
                {
                  "mode": "markers+lines",
                  "name": "Viagens em 2020",
                  "type": "scatter",
                  "x": [
                    "2020-04-13",
                    "2020-04-20",
                    "2020-04-27",
                    "2020-05-04",
                    "2020-05-11",
                    "2020-05-18",
                    "2020-05-25",
                    "2020-06-01",
                    "2020-06-08",
                    "2020-06-15",
                    "2020-06-22",
                    "2020-06-29",
                    "2020-07-06",
                    "2020-07-13",
                    "2020-07-20",
                    "2020-07-27",
                    "2020-08-03",
                    "2020-08-10",
                    "2020-08-17",
                    "2020-08-24",
                    "2020-08-31",
                    "2020-09-07",
                    "2020-09-14",
                    "2020-09-21",
                    "2020-09-28",
                    "2020-10-05",
                    "2020-10-12",
                    "2020-10-19",
                    "2020-10-26",
                    "2020-11-02",
                    "2020-11-09",
                    "2020-11-16"
                  ],
                  "y": [
                    15944,
                    32475,
                    53894,
                    45049,
                    74550,
                    119463,
                    103482,
                    115471,
                    123825,
                    139994,
                    131693,
                    147090,
                    138744,
                    146145,
                    150576,
                    134812,
                    134429,
                    153758,
                    138786,
                    125434,
                    140947,
                    116874,
                    125018,
                    130691,
                    92149,
                    87588,
                    77933,
                    73571,
                    55110,
                    71769,
                    67143,
                    334
                  ]
                }
              ],
              "layout": {
                "legend": {
                  "orientation": "h"
                },
                "template": {
                  "data": {
                    "bar": [
                      {
                        "error_x": {
                          "color": "#2a3f5f"
                        },
                        "error_y": {
                          "color": "#2a3f5f"
                        },
                        "marker": {
                          "line": {
                            "color": "#E5ECF6",
                            "width": 0.5
                          },
                          "pattern": {
                            "fillmode": "overlay",
                            "size": 10,
                            "solidity": 0.2
                          }
                        },
                        "type": "bar"
                      }
                    ],
                    "barpolar": [
                      {
                        "marker": {
                          "line": {
                            "color": "#E5ECF6",
                            "width": 0.5
                          },
                          "pattern": {
                            "fillmode": "overlay",
                            "size": 10,
                            "solidity": 0.2
                          }
                        },
                        "type": "barpolar"
                      }
                    ],
                    "carpet": [
                      {
                        "aaxis": {
                          "endlinecolor": "#2a3f5f",
                          "gridcolor": "white",
                          "linecolor": "white",
                          "minorgridcolor": "white",
                          "startlinecolor": "#2a3f5f"
                        },
                        "baxis": {
                          "endlinecolor": "#2a3f5f",
                          "gridcolor": "white",
                          "linecolor": "white",
                          "minorgridcolor": "white",
                          "startlinecolor": "#2a3f5f"
                        },
                        "type": "carpet"
                      }
                    ],
                    "choropleth": [
                      {
                        "colorbar": {
                          "outlinewidth": 0,
                          "ticks": ""
                        },
                        "type": "choropleth"
                      }
                    ],
                    "contour": [
                      {
                        "colorbar": {
                          "outlinewidth": 0,
                          "ticks": ""
                        },
                        "colorscale": [
                          [
                            0,
                            "#0d0887"
                          ],
                          [
                            0.1111111111111111,
                            "#46039f"
                          ],
                          [
                            0.2222222222222222,
                            "#7201a8"
                          ],
                          [
                            0.3333333333333333,
                            "#9c179e"
                          ],
                          [
                            0.4444444444444444,
                            "#bd3786"
                          ],
                          [
                            0.5555555555555556,
                            "#d8576b"
                          ],
                          [
                            0.6666666666666666,
                            "#ed7953"
                          ],
                          [
                            0.7777777777777778,
                            "#fb9f3a"
                          ],
                          [
                            0.8888888888888888,
                            "#fdca26"
                          ],
                          [
                            1,
                            "#f0f921"
                          ]
                        ],
                        "type": "contour"
                      }
                    ],
                    "contourcarpet": [
                      {
                        "colorbar": {
                          "outlinewidth": 0,
                          "ticks": ""
                        },
                        "type": "contourcarpet"
                      }
                    ],
                    "heatmap": [
                      {
                        "colorbar": {
                          "outlinewidth": 0,
                          "ticks": ""
                        },
                        "colorscale": [
                          [
                            0,
                            "#0d0887"
                          ],
                          [
                            0.1111111111111111,
                            "#46039f"
                          ],
                          [
                            0.2222222222222222,
                            "#7201a8"
                          ],
                          [
                            0.3333333333333333,
                            "#9c179e"
                          ],
                          [
                            0.4444444444444444,
                            "#bd3786"
                          ],
                          [
                            0.5555555555555556,
                            "#d8576b"
                          ],
                          [
                            0.6666666666666666,
                            "#ed7953"
                          ],
                          [
                            0.7777777777777778,
                            "#fb9f3a"
                          ],
                          [
                            0.8888888888888888,
                            "#fdca26"
                          ],
                          [
                            1,
                            "#f0f921"
                          ]
                        ],
                        "type": "heatmap"
                      }
                    ],
                    "heatmapgl": [
                      {
                        "colorbar": {
                          "outlinewidth": 0,
                          "ticks": ""
                        },
                        "colorscale": [
                          [
                            0,
                            "#0d0887"
                          ],
                          [
                            0.1111111111111111,
                            "#46039f"
                          ],
                          [
                            0.2222222222222222,
                            "#7201a8"
                          ],
                          [
                            0.3333333333333333,
                            "#9c179e"
                          ],
                          [
                            0.4444444444444444,
                            "#bd3786"
                          ],
                          [
                            0.5555555555555556,
                            "#d8576b"
                          ],
                          [
                            0.6666666666666666,
                            "#ed7953"
                          ],
                          [
                            0.7777777777777778,
                            "#fb9f3a"
                          ],
                          [
                            0.8888888888888888,
                            "#fdca26"
                          ],
                          [
                            1,
                            "#f0f921"
                          ]
                        ],
                        "type": "heatmapgl"
                      }
                    ],
                    "histogram": [
                      {
                        "marker": {
                          "pattern": {
                            "fillmode": "overlay",
                            "size": 10,
                            "solidity": 0.2
                          }
                        },
                        "type": "histogram"
                      }
                    ],
                    "histogram2d": [
                      {
                        "colorbar": {
                          "outlinewidth": 0,
                          "ticks": ""
                        },
                        "colorscale": [
                          [
                            0,
                            "#0d0887"
                          ],
                          [
                            0.1111111111111111,
                            "#46039f"
                          ],
                          [
                            0.2222222222222222,
                            "#7201a8"
                          ],
                          [
                            0.3333333333333333,
                            "#9c179e"
                          ],
                          [
                            0.4444444444444444,
                            "#bd3786"
                          ],
                          [
                            0.5555555555555556,
                            "#d8576b"
                          ],
                          [
                            0.6666666666666666,
                            "#ed7953"
                          ],
                          [
                            0.7777777777777778,
                            "#fb9f3a"
                          ],
                          [
                            0.8888888888888888,
                            "#fdca26"
                          ],
                          [
                            1,
                            "#f0f921"
                          ]
                        ],
                        "type": "histogram2d"
                      }
                    ],
                    "histogram2dcontour": [
                      {
                        "colorbar": {
                          "outlinewidth": 0,
                          "ticks": ""
                        },
                        "colorscale": [
                          [
                            0,
                            "#0d0887"
                          ],
                          [
                            0.1111111111111111,
                            "#46039f"
                          ],
                          [
                            0.2222222222222222,
                            "#7201a8"
                          ],
                          [
                            0.3333333333333333,
                            "#9c179e"
                          ],
                          [
                            0.4444444444444444,
                            "#bd3786"
                          ],
                          [
                            0.5555555555555556,
                            "#d8576b"
                          ],
                          [
                            0.6666666666666666,
                            "#ed7953"
                          ],
                          [
                            0.7777777777777778,
                            "#fb9f3a"
                          ],
                          [
                            0.8888888888888888,
                            "#fdca26"
                          ],
                          [
                            1,
                            "#f0f921"
                          ]
                        ],
                        "type": "histogram2dcontour"
                      }
                    ],
                    "mesh3d": [
                      {
                        "colorbar": {
                          "outlinewidth": 0,
                          "ticks": ""
                        },
                        "type": "mesh3d"
                      }
                    ],
                    "parcoords": [
                      {
                        "line": {
                          "colorbar": {
                            "outlinewidth": 0,
                            "ticks": ""
                          }
                        },
                        "type": "parcoords"
                      }
                    ],
                    "pie": [
                      {
                        "automargin": true,
                        "type": "pie"
                      }
                    ],
                    "scatter": [
                      {
                        "marker": {
                          "colorbar": {
                            "outlinewidth": 0,
                            "ticks": ""
                          }
                        },
                        "type": "scatter"
                      }
                    ],
                    "scatter3d": [
                      {
                        "line": {
                          "colorbar": {
                            "outlinewidth": 0,
                            "ticks": ""
                          }
                        },
                        "marker": {
                          "colorbar": {
                            "outlinewidth": 0,
                            "ticks": ""
                          }
                        },
                        "type": "scatter3d"
                      }
                    ],
                    "scattercarpet": [
                      {
                        "marker": {
                          "colorbar": {
                            "outlinewidth": 0,
                            "ticks": ""
                          }
                        },
                        "type": "scattercarpet"
                      }
                    ],
                    "scattergeo": [
                      {
                        "marker": {
                          "colorbar": {
                            "outlinewidth": 0,
                            "ticks": ""
                          }
                        },
                        "type": "scattergeo"
                      }
                    ],
                    "scattergl": [
                      {
                        "marker": {
                          "colorbar": {
                            "outlinewidth": 0,
                            "ticks": ""
                          }
                        },
                        "type": "scattergl"
                      }
                    ],
                    "scattermapbox": [
                      {
                        "marker": {
                          "colorbar": {
                            "outlinewidth": 0,
                            "ticks": ""
                          }
                        },
                        "type": "scattermapbox"
                      }
                    ],
                    "scatterpolar": [
                      {
                        "marker": {
                          "colorbar": {
                            "outlinewidth": 0,
                            "ticks": ""
                          }
                        },
                        "type": "scatterpolar"
                      }
                    ],
                    "scatterpolargl": [
                      {
                        "marker": {
                          "colorbar": {
                            "outlinewidth": 0,
                            "ticks": ""
                          }
                        },
                        "type": "scatterpolargl"
                      }
                    ],
                    "scatterternary": [
                      {
                        "marker": {
                          "colorbar": {
                            "outlinewidth": 0,
                            "ticks": ""
                          }
                        },
                        "type": "scatterternary"
                      }
                    ],
                    "surface": [
                      {
                        "colorbar": {
                          "outlinewidth": 0,
                          "ticks": ""
                        },
                        "colorscale": [
                          [
                            0,
                            "#0d0887"
                          ],
                          [
                            0.1111111111111111,
                            "#46039f"
                          ],
                          [
                            0.2222222222222222,
                            "#7201a8"
                          ],
                          [
                            0.3333333333333333,
                            "#9c179e"
                          ],
                          [
                            0.4444444444444444,
                            "#bd3786"
                          ],
                          [
                            0.5555555555555556,
                            "#d8576b"
                          ],
                          [
                            0.6666666666666666,
                            "#ed7953"
                          ],
                          [
                            0.7777777777777778,
                            "#fb9f3a"
                          ],
                          [
                            0.8888888888888888,
                            "#fdca26"
                          ],
                          [
                            1,
                            "#f0f921"
                          ]
                        ],
                        "type": "surface"
                      }
                    ],
                    "table": [
                      {
                        "cells": {
                          "fill": {
                            "color": "#EBF0F8"
                          },
                          "line": {
                            "color": "white"
                          }
                        },
                        "header": {
                          "fill": {
                            "color": "#C8D4E3"
                          },
                          "line": {
                            "color": "white"
                          }
                        },
                        "type": "table"
                      }
                    ]
                  },
                  "layout": {
                    "annotationdefaults": {
                      "arrowcolor": "#2a3f5f",
                      "arrowhead": 0,
                      "arrowwidth": 1
                    },
                    "autotypenumbers": "strict",
                    "coloraxis": {
                      "colorbar": {
                        "outlinewidth": 0,
                        "ticks": ""
                      }
                    },
                    "colorscale": {
                      "diverging": [
                        [
                          0,
                          "#8e0152"
                        ],
                        [
                          0.1,
                          "#c51b7d"
                        ],
                        [
                          0.2,
                          "#de77ae"
                        ],
                        [
                          0.3,
                          "#f1b6da"
                        ],
                        [
                          0.4,
                          "#fde0ef"
                        ],
                        [
                          0.5,
                          "#f7f7f7"
                        ],
                        [
                          0.6,
                          "#e6f5d0"
                        ],
                        [
                          0.7,
                          "#b8e186"
                        ],
                        [
                          0.8,
                          "#7fbc41"
                        ],
                        [
                          0.9,
                          "#4d9221"
                        ],
                        [
                          1,
                          "#276419"
                        ]
                      ],
                      "sequential": [
                        [
                          0,
                          "#0d0887"
                        ],
                        [
                          0.1111111111111111,
                          "#46039f"
                        ],
                        [
                          0.2222222222222222,
                          "#7201a8"
                        ],
                        [
                          0.3333333333333333,
                          "#9c179e"
                        ],
                        [
                          0.4444444444444444,
                          "#bd3786"
                        ],
                        [
                          0.5555555555555556,
                          "#d8576b"
                        ],
                        [
                          0.6666666666666666,
                          "#ed7953"
                        ],
                        [
                          0.7777777777777778,
                          "#fb9f3a"
                        ],
                        [
                          0.8888888888888888,
                          "#fdca26"
                        ],
                        [
                          1,
                          "#f0f921"
                        ]
                      ],
                      "sequentialminus": [
                        [
                          0,
                          "#0d0887"
                        ],
                        [
                          0.1111111111111111,
                          "#46039f"
                        ],
                        [
                          0.2222222222222222,
                          "#7201a8"
                        ],
                        [
                          0.3333333333333333,
                          "#9c179e"
                        ],
                        [
                          0.4444444444444444,
                          "#bd3786"
                        ],
                        [
                          0.5555555555555556,
                          "#d8576b"
                        ],
                        [
                          0.6666666666666666,
                          "#ed7953"
                        ],
                        [
                          0.7777777777777778,
                          "#fb9f3a"
                        ],
                        [
                          0.8888888888888888,
                          "#fdca26"
                        ],
                        [
                          1,
                          "#f0f921"
                        ]
                      ]
                    },
                    "colorway": [
                      "#636efa",
                      "#EF553B",
                      "#00cc96",
                      "#ab63fa",
                      "#FFA15A",
                      "#19d3f3",
                      "#FF6692",
                      "#B6E880",
                      "#FF97FF",
                      "#FECB52"
                    ],
                    "font": {
                      "color": "#2a3f5f"
                    },
                    "geo": {
                      "bgcolor": "white",
                      "lakecolor": "white",
                      "landcolor": "#E5ECF6",
                      "showlakes": true,
                      "showland": true,
                      "subunitcolor": "white"
                    },
                    "hoverlabel": {
                      "align": "left"
                    },
                    "hovermode": "closest",
                    "mapbox": {
                      "style": "light"
                    },
                    "paper_bgcolor": "white",
                    "plot_bgcolor": "#E5ECF6",
                    "polar": {
                      "angularaxis": {
                        "gridcolor": "white",
                        "linecolor": "white",
                        "ticks": ""
                      },
                      "bgcolor": "#E5ECF6",
                      "radialaxis": {
                        "gridcolor": "white",
                        "linecolor": "white",
                        "ticks": ""
                      }
                    },
                    "scene": {
                      "xaxis": {
                        "backgroundcolor": "#E5ECF6",
                        "gridcolor": "white",
                        "gridwidth": 2,
                        "linecolor": "white",
                        "showbackground": true,
                        "ticks": "",
                        "zerolinecolor": "white"
                      },
                      "yaxis": {
                        "backgroundcolor": "#E5ECF6",
                        "gridcolor": "white",
                        "gridwidth": 2,
                        "linecolor": "white",
                        "showbackground": true,
                        "ticks": "",
                        "zerolinecolor": "white"
                      },
                      "zaxis": {
                        "backgroundcolor": "#E5ECF6",
                        "gridcolor": "white",
                        "gridwidth": 2,
                        "linecolor": "white",
                        "showbackground": true,
                        "ticks": "",
                        "zerolinecolor": "white"
                      }
                    },
                    "shapedefaults": {
                      "line": {
                        "color": "#2a3f5f"
                      }
                    },
                    "ternary": {
                      "aaxis": {
                        "gridcolor": "white",
                        "linecolor": "white",
                        "ticks": ""
                      },
                      "baxis": {
                        "gridcolor": "white",
                        "linecolor": "white",
                        "ticks": ""
                      },
                      "bgcolor": "#E5ECF6",
                      "caxis": {
                        "gridcolor": "white",
                        "linecolor": "white",
                        "ticks": ""
                      }
                    },
                    "title": {
                      "x": 0.05
                    },
                    "xaxis": {
                      "automargin": true,
                      "gridcolor": "white",
                      "linecolor": "white",
                      "ticks": "",
                      "title": {
                        "standoff": 15
                      },
                      "zerolinecolor": "white",
                      "zerolinewidth": 2
                    },
                    "yaxis": {
                      "automargin": true,
                      "gridcolor": "white",
                      "linecolor": "white",
                      "ticks": "",
                      "title": {
                        "standoff": 15
                      },
                      "zerolinecolor": "white",
                      "zerolinewidth": 2
                    }
                  }
                },
                "title": {
                  "text": "Quantidade total de viagens por semana"
                },
                "xaxis": {
                  "title": {
                    "text": "Semanas"
                  }
                },
                "yaxis": {
                  "title": {
                    "text": "Quantidade de viagens"
                  }
                }
              }
            },
            "text/html": [
              "<div>                            <div id=\"f2f4a35e-4844-4a40-b466-f5982b9e7448\" class=\"plotly-graph-div\" style=\"height:525px; width:100%;\"></div>            <script type=\"text/javascript\">                require([\"plotly\"], function(Plotly) {                    window.PLOTLYENV=window.PLOTLYENV || {};                                    if (document.getElementById(\"f2f4a35e-4844-4a40-b466-f5982b9e7448\")) {                    Plotly.newPlot(                        \"f2f4a35e-4844-4a40-b466-f5982b9e7448\",                        [{\"mode\":\"markers+lines\",\"name\":\"Viagens em 2019\",\"type\":\"scatter\",\"x\":[\"2019-04-08\",\"2019-04-15\",\"2019-04-22\",\"2019-04-29\",\"2019-05-06\",\"2019-05-13\",\"2019-05-20\",\"2019-05-27\",\"2019-06-03\",\"2019-06-10\",\"2019-06-17\",\"2019-06-24\",\"2019-07-01\",\"2019-07-08\",\"2019-07-15\",\"2019-07-22\",\"2019-07-29\",\"2019-08-05\",\"2019-08-12\",\"2019-08-19\",\"2019-08-26\",\"2019-09-02\",\"2019-09-09\",\"2019-09-16\",\"2019-09-23\",\"2019-09-30\",\"2019-10-07\",\"2019-10-14\",\"2019-10-21\",\"2019-10-28\"],\"y\":[9143,81796,102919,148721,172137,164058,198095,197187,233966,200064,230586,222602,256021,234581,244348,261504,251423,230165,236155,245189,218602,193071,206042,225804,189548,151005,164200,120572,132217,76121]},{\"mode\":\"markers+lines\",\"name\":\"Viagens em 2020\",\"type\":\"scatter\",\"x\":[\"2020-04-13\",\"2020-04-20\",\"2020-04-27\",\"2020-05-04\",\"2020-05-11\",\"2020-05-18\",\"2020-05-25\",\"2020-06-01\",\"2020-06-08\",\"2020-06-15\",\"2020-06-22\",\"2020-06-29\",\"2020-07-06\",\"2020-07-13\",\"2020-07-20\",\"2020-07-27\",\"2020-08-03\",\"2020-08-10\",\"2020-08-17\",\"2020-08-24\",\"2020-08-31\",\"2020-09-07\",\"2020-09-14\",\"2020-09-21\",\"2020-09-28\",\"2020-10-05\",\"2020-10-12\",\"2020-10-19\",\"2020-10-26\",\"2020-11-02\",\"2020-11-09\",\"2020-11-16\"],\"y\":[15944,32475,53894,45049,74550,119463,103482,115471,123825,139994,131693,147090,138744,146145,150576,134812,134429,153758,138786,125434,140947,116874,125018,130691,92149,87588,77933,73571,55110,71769,67143,334]}],                        {\"legend\":{\"orientation\":\"h\"},\"template\":{\"data\":{\"bar\":[{\"error_x\":{\"color\":\"#2a3f5f\"},\"error_y\":{\"color\":\"#2a3f5f\"},\"marker\":{\"line\":{\"color\":\"#E5ECF6\",\"width\":0.5},\"pattern\":{\"fillmode\":\"overlay\",\"size\":10,\"solidity\":0.2}},\"type\":\"bar\"}],\"barpolar\":[{\"marker\":{\"line\":{\"color\":\"#E5ECF6\",\"width\":0.5},\"pattern\":{\"fillmode\":\"overlay\",\"size\":10,\"solidity\":0.2}},\"type\":\"barpolar\"}],\"carpet\":[{\"aaxis\":{\"endlinecolor\":\"#2a3f5f\",\"gridcolor\":\"white\",\"linecolor\":\"white\",\"minorgridcolor\":\"white\",\"startlinecolor\":\"#2a3f5f\"},\"baxis\":{\"endlinecolor\":\"#2a3f5f\",\"gridcolor\":\"white\",\"linecolor\":\"white\",\"minorgridcolor\":\"white\",\"startlinecolor\":\"#2a3f5f\"},\"type\":\"carpet\"}],\"choropleth\":[{\"colorbar\":{\"outlinewidth\":0,\"ticks\":\"\"},\"type\":\"choropleth\"}],\"contour\":[{\"colorbar\":{\"outlinewidth\":0,\"ticks\":\"\"},\"colorscale\":[[0.0,\"#0d0887\"],[0.1111111111111111,\"#46039f\"],[0.2222222222222222,\"#7201a8\"],[0.3333333333333333,\"#9c179e\"],[0.4444444444444444,\"#bd3786\"],[0.5555555555555556,\"#d8576b\"],[0.6666666666666666,\"#ed7953\"],[0.7777777777777778,\"#fb9f3a\"],[0.8888888888888888,\"#fdca26\"],[1.0,\"#f0f921\"]],\"type\":\"contour\"}],\"contourcarpet\":[{\"colorbar\":{\"outlinewidth\":0,\"ticks\":\"\"},\"type\":\"contourcarpet\"}],\"heatmap\":[{\"colorbar\":{\"outlinewidth\":0,\"ticks\":\"\"},\"colorscale\":[[0.0,\"#0d0887\"],[0.1111111111111111,\"#46039f\"],[0.2222222222222222,\"#7201a8\"],[0.3333333333333333,\"#9c179e\"],[0.4444444444444444,\"#bd3786\"],[0.5555555555555556,\"#d8576b\"],[0.6666666666666666,\"#ed7953\"],[0.7777777777777778,\"#fb9f3a\"],[0.8888888888888888,\"#fdca26\"],[1.0,\"#f0f921\"]],\"type\":\"heatmap\"}],\"heatmapgl\":[{\"colorbar\":{\"outlinewidth\":0,\"ticks\":\"\"},\"colorscale\":[[0.0,\"#0d0887\"],[0.1111111111111111,\"#46039f\"],[0.2222222222222222,\"#7201a8\"],[0.3333333333333333,\"#9c179e\"],[0.4444444444444444,\"#bd3786\"],[0.5555555555555556,\"#d8576b\"],[0.6666666666666666,\"#ed7953\"],[0.7777777777777778,\"#fb9f3a\"],[0.8888888888888888,\"#fdca26\"],[1.0,\"#f0f921\"]],\"type\":\"heatmapgl\"}],\"histogram\":[{\"marker\":{\"pattern\":{\"fillmode\":\"overlay\",\"size\":10,\"solidity\":0.2}},\"type\":\"histogram\"}],\"histogram2d\":[{\"colorbar\":{\"outlinewidth\":0,\"ticks\":\"\"},\"colorscale\":[[0.0,\"#0d0887\"],[0.1111111111111111,\"#46039f\"],[0.2222222222222222,\"#7201a8\"],[0.3333333333333333,\"#9c179e\"],[0.4444444444444444,\"#bd3786\"],[0.5555555555555556,\"#d8576b\"],[0.6666666666666666,\"#ed7953\"],[0.7777777777777778,\"#fb9f3a\"],[0.8888888888888888,\"#fdca26\"],[1.0,\"#f0f921\"]],\"type\":\"histogram2d\"}],\"histogram2dcontour\":[{\"colorbar\":{\"outlinewidth\":0,\"ticks\":\"\"},\"colorscale\":[[0.0,\"#0d0887\"],[0.1111111111111111,\"#46039f\"],[0.2222222222222222,\"#7201a8\"],[0.3333333333333333,\"#9c179e\"],[0.4444444444444444,\"#bd3786\"],[0.5555555555555556,\"#d8576b\"],[0.6666666666666666,\"#ed7953\"],[0.7777777777777778,\"#fb9f3a\"],[0.8888888888888888,\"#fdca26\"],[1.0,\"#f0f921\"]],\"type\":\"histogram2dcontour\"}],\"mesh3d\":[{\"colorbar\":{\"outlinewidth\":0,\"ticks\":\"\"},\"type\":\"mesh3d\"}],\"parcoords\":[{\"line\":{\"colorbar\":{\"outlinewidth\":0,\"ticks\":\"\"}},\"type\":\"parcoords\"}],\"pie\":[{\"automargin\":true,\"type\":\"pie\"}],\"scatter\":[{\"marker\":{\"colorbar\":{\"outlinewidth\":0,\"ticks\":\"\"}},\"type\":\"scatter\"}],\"scatter3d\":[{\"line\":{\"colorbar\":{\"outlinewidth\":0,\"ticks\":\"\"}},\"marker\":{\"colorbar\":{\"outlinewidth\":0,\"ticks\":\"\"}},\"type\":\"scatter3d\"}],\"scattercarpet\":[{\"marker\":{\"colorbar\":{\"outlinewidth\":0,\"ticks\":\"\"}},\"type\":\"scattercarpet\"}],\"scattergeo\":[{\"marker\":{\"colorbar\":{\"outlinewidth\":0,\"ticks\":\"\"}},\"type\":\"scattergeo\"}],\"scattergl\":[{\"marker\":{\"colorbar\":{\"outlinewidth\":0,\"ticks\":\"\"}},\"type\":\"scattergl\"}],\"scattermapbox\":[{\"marker\":{\"colorbar\":{\"outlinewidth\":0,\"ticks\":\"\"}},\"type\":\"scattermapbox\"}],\"scatterpolar\":[{\"marker\":{\"colorbar\":{\"outlinewidth\":0,\"ticks\":\"\"}},\"type\":\"scatterpolar\"}],\"scatterpolargl\":[{\"marker\":{\"colorbar\":{\"outlinewidth\":0,\"ticks\":\"\"}},\"type\":\"scatterpolargl\"}],\"scatterternary\":[{\"marker\":{\"colorbar\":{\"outlinewidth\":0,\"ticks\":\"\"}},\"type\":\"scatterternary\"}],\"surface\":[{\"colorbar\":{\"outlinewidth\":0,\"ticks\":\"\"},\"colorscale\":[[0.0,\"#0d0887\"],[0.1111111111111111,\"#46039f\"],[0.2222222222222222,\"#7201a8\"],[0.3333333333333333,\"#9c179e\"],[0.4444444444444444,\"#bd3786\"],[0.5555555555555556,\"#d8576b\"],[0.6666666666666666,\"#ed7953\"],[0.7777777777777778,\"#fb9f3a\"],[0.8888888888888888,\"#fdca26\"],[1.0,\"#f0f921\"]],\"type\":\"surface\"}],\"table\":[{\"cells\":{\"fill\":{\"color\":\"#EBF0F8\"},\"line\":{\"color\":\"white\"}},\"header\":{\"fill\":{\"color\":\"#C8D4E3\"},\"line\":{\"color\":\"white\"}},\"type\":\"table\"}]},\"layout\":{\"annotationdefaults\":{\"arrowcolor\":\"#2a3f5f\",\"arrowhead\":0,\"arrowwidth\":1},\"autotypenumbers\":\"strict\",\"coloraxis\":{\"colorbar\":{\"outlinewidth\":0,\"ticks\":\"\"}},\"colorscale\":{\"diverging\":[[0,\"#8e0152\"],[0.1,\"#c51b7d\"],[0.2,\"#de77ae\"],[0.3,\"#f1b6da\"],[0.4,\"#fde0ef\"],[0.5,\"#f7f7f7\"],[0.6,\"#e6f5d0\"],[0.7,\"#b8e186\"],[0.8,\"#7fbc41\"],[0.9,\"#4d9221\"],[1,\"#276419\"]],\"sequential\":[[0.0,\"#0d0887\"],[0.1111111111111111,\"#46039f\"],[0.2222222222222222,\"#7201a8\"],[0.3333333333333333,\"#9c179e\"],[0.4444444444444444,\"#bd3786\"],[0.5555555555555556,\"#d8576b\"],[0.6666666666666666,\"#ed7953\"],[0.7777777777777778,\"#fb9f3a\"],[0.8888888888888888,\"#fdca26\"],[1.0,\"#f0f921\"]],\"sequentialminus\":[[0.0,\"#0d0887\"],[0.1111111111111111,\"#46039f\"],[0.2222222222222222,\"#7201a8\"],[0.3333333333333333,\"#9c179e\"],[0.4444444444444444,\"#bd3786\"],[0.5555555555555556,\"#d8576b\"],[0.6666666666666666,\"#ed7953\"],[0.7777777777777778,\"#fb9f3a\"],[0.8888888888888888,\"#fdca26\"],[1.0,\"#f0f921\"]]},\"colorway\":[\"#636efa\",\"#EF553B\",\"#00cc96\",\"#ab63fa\",\"#FFA15A\",\"#19d3f3\",\"#FF6692\",\"#B6E880\",\"#FF97FF\",\"#FECB52\"],\"font\":{\"color\":\"#2a3f5f\"},\"geo\":{\"bgcolor\":\"white\",\"lakecolor\":\"white\",\"landcolor\":\"#E5ECF6\",\"showlakes\":true,\"showland\":true,\"subunitcolor\":\"white\"},\"hoverlabel\":{\"align\":\"left\"},\"hovermode\":\"closest\",\"mapbox\":{\"style\":\"light\"},\"paper_bgcolor\":\"white\",\"plot_bgcolor\":\"#E5ECF6\",\"polar\":{\"angularaxis\":{\"gridcolor\":\"white\",\"linecolor\":\"white\",\"ticks\":\"\"},\"bgcolor\":\"#E5ECF6\",\"radialaxis\":{\"gridcolor\":\"white\",\"linecolor\":\"white\",\"ticks\":\"\"}},\"scene\":{\"xaxis\":{\"backgroundcolor\":\"#E5ECF6\",\"gridcolor\":\"white\",\"gridwidth\":2,\"linecolor\":\"white\",\"showbackground\":true,\"ticks\":\"\",\"zerolinecolor\":\"white\"},\"yaxis\":{\"backgroundcolor\":\"#E5ECF6\",\"gridcolor\":\"white\",\"gridwidth\":2,\"linecolor\":\"white\",\"showbackground\":true,\"ticks\":\"\",\"zerolinecolor\":\"white\"},\"zaxis\":{\"backgroundcolor\":\"#E5ECF6\",\"gridcolor\":\"white\",\"gridwidth\":2,\"linecolor\":\"white\",\"showbackground\":true,\"ticks\":\"\",\"zerolinecolor\":\"white\"}},\"shapedefaults\":{\"line\":{\"color\":\"#2a3f5f\"}},\"ternary\":{\"aaxis\":{\"gridcolor\":\"white\",\"linecolor\":\"white\",\"ticks\":\"\"},\"baxis\":{\"gridcolor\":\"white\",\"linecolor\":\"white\",\"ticks\":\"\"},\"bgcolor\":\"#E5ECF6\",\"caxis\":{\"gridcolor\":\"white\",\"linecolor\":\"white\",\"ticks\":\"\"}},\"title\":{\"x\":0.05},\"xaxis\":{\"automargin\":true,\"gridcolor\":\"white\",\"linecolor\":\"white\",\"ticks\":\"\",\"title\":{\"standoff\":15},\"zerolinecolor\":\"white\",\"zerolinewidth\":2},\"yaxis\":{\"automargin\":true,\"gridcolor\":\"white\",\"linecolor\":\"white\",\"ticks\":\"\",\"title\":{\"standoff\":15},\"zerolinecolor\":\"white\",\"zerolinewidth\":2}}},\"title\":{\"text\":\"Quantidade total de viagens por semana\"},\"xaxis\":{\"title\":{\"text\":\"Semanas\"}},\"yaxis\":{\"title\":{\"text\":\"Quantidade de viagens\"}}},                        {\"responsive\": true}                    ).then(function(){\n",
              "                            \n",
              "var gd = document.getElementById('f2f4a35e-4844-4a40-b466-f5982b9e7448');\n",
              "var x = new MutationObserver(function (mutations, observer) {{\n",
              "        var display = window.getComputedStyle(gd).display;\n",
              "        if (!display || display === 'none') {{\n",
              "            console.log([gd, 'removed!']);\n",
              "            Plotly.purge(gd);\n",
              "            observer.disconnect();\n",
              "        }}\n",
              "}});\n",
              "\n",
              "// Listen for the removal of the full notebook cells\n",
              "var notebookContainer = gd.closest('#notebook-container');\n",
              "if (notebookContainer) {{\n",
              "    x.observe(notebookContainer, {childList: true});\n",
              "}}\n",
              "\n",
              "// Listen for the clearing of the current output cell\n",
              "var outputEl = gd.closest('.output');\n",
              "if (outputEl) {{\n",
              "    x.observe(outputEl, {childList: true});\n",
              "}}\n",
              "\n",
              "                        })                };                });            </script>        </div>"
            ]
          },
          "metadata": {},
          "output_type": "display_data"
        }
      ],
      "source": [
        "#Gráfico da quantidade total de viagens por semana\n",
        "\n",
        "#Criando os gráficos\n",
        "grafico_2019 = go.Scatter(x = viagens_por_semana_2019['semana'], y = viagens_por_semana_2019['qtd_viagens'], mode = 'markers+lines', name = 'Viagens em 2019')\n",
        "grafico_2020 = go.Scatter(x = viagens_por_semana_2020['semana'], y = viagens_por_semana_2020['qtd_viagens'], mode = 'markers+lines', name = 'Viagens em 2020')\n",
        "\n",
        "#Armazenando os gráficos em uma lista\n",
        "graficos = [grafico_2019, grafico_2020]\n",
        "\n",
        "#Criando o layout\n",
        "layout = go.Layout(title='Quantidade total de viagens por semana',\n",
        "                   yaxis={'title':'Quantidade de viagens'},\n",
        "                   xaxis={'title': 'Semanas'})\n",
        "\n",
        "#Criando a figura que será exibida\n",
        "fig = go.Figure(data=graficos, layout=layout)\n",
        "fig.update_layout(legend=dict(orientation='h'))\n",
        "\n",
        "#Exibindo o gráfico\n",
        "py.iplot(fig)"
      ]
    },
    {
      "cell_type": "code",
      "execution_count": null,
      "metadata": {
        "id": "se6iVf5SN1aF",
        "outputId": "bae7570d-3f9a-425e-b6f4-fa413fb336f7"
      },
      "outputs": [
        {
          "data": {
            "text/html": [
              "<div>\n",
              "<style scoped>\n",
              "    .dataframe tbody tr th:only-of-type {\n",
              "        vertical-align: middle;\n",
              "    }\n",
              "\n",
              "    .dataframe tbody tr th {\n",
              "        vertical-align: top;\n",
              "    }\n",
              "\n",
              "    .dataframe thead th {\n",
              "        text-align: right;\n",
              "    }\n",
              "</style>\n",
              "<table border=\"1\" class=\"dataframe\">\n",
              "  <thead>\n",
              "    <tr style=\"text-align: right;\">\n",
              "      <th></th>\n",
              "      <th>is_member</th>\n",
              "      <th>ano</th>\n",
              "      <th>mes</th>\n",
              "      <th>qtd_viagens</th>\n",
              "    </tr>\n",
              "  </thead>\n",
              "  <tbody>\n",
              "    <tr>\n",
              "      <th>is_member</th>\n",
              "      <td>1.000000</td>\n",
              "      <td>-0.017693</td>\n",
              "      <td>0.028501</td>\n",
              "      <td>0.087525</td>\n",
              "    </tr>\n",
              "    <tr>\n",
              "      <th>ano</th>\n",
              "      <td>-0.017693</td>\n",
              "      <td>1.000000</td>\n",
              "      <td>0.079937</td>\n",
              "      <td>-0.090397</td>\n",
              "    </tr>\n",
              "    <tr>\n",
              "      <th>mes</th>\n",
              "      <td>0.028501</td>\n",
              "      <td>0.079937</td>\n",
              "      <td>1.000000</td>\n",
              "      <td>-0.002971</td>\n",
              "    </tr>\n",
              "    <tr>\n",
              "      <th>qtd_viagens</th>\n",
              "      <td>0.087525</td>\n",
              "      <td>-0.090397</td>\n",
              "      <td>-0.002971</td>\n",
              "      <td>1.000000</td>\n",
              "    </tr>\n",
              "  </tbody>\n",
              "</table>\n",
              "</div>"
            ],
            "text/plain": [
              "             is_member       ano       mes  qtd_viagens\n",
              "is_member     1.000000 -0.017693  0.028501     0.087525\n",
              "ano          -0.017693  1.000000  0.079937    -0.090397\n",
              "mes           0.028501  0.079937  1.000000    -0.002971\n",
              "qtd_viagens   0.087525 -0.090397 -0.002971     1.000000"
            ]
          },
          "execution_count": 36,
          "metadata": {},
          "output_type": "execute_result"
        },
        {
          "data": {
            "image/png": "[encoded data removed]",
            "text/plain": [
              "<Figure size 720x360 with 2 Axes>"
            ]
          },
          "metadata": {
            "needs_background": "light"
          },
          "output_type": "display_data"
        }
      ],
      "source": [
        "#Calculando a correlação entre as variáveis\n",
        "plt.figure(figsize=(10,5))\n",
        "c= dados.corr()\n",
        "sns.heatmap(c,cmap=\"YlGnBu\",annot=True)\n",
        "c"
      ]
    }
  ],
  "metadata": {
    "colab": {
      "provenance": [],
      "include_colab_link": true
    },
    "kernelspec": {
      "display_name": "Python 3",
      "language": "python",
      "name": "python3"
    },
    "language_info": {
      "codemirror_mode": {
        "name": "ipython",
        "version": 3
      },
      "file_extension": ".py",
      "mimetype": "text/x-python",
      "name": "python",
      "nbconvert_exporter": "python",
      "pygments_lexer": "ipython3",
      "version": "3.8.5"
    }
  },
  "nbformat": 4,
  "nbformat_minor": 0
}